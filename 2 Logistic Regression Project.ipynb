{
 "cells": [
  {
   "cell_type": "markdown",
   "metadata": {},
   "source": [
    "# Logistic Regression Project"
   ]
  },
  {
   "cell_type": "markdown",
   "metadata": {},
   "source": [
    "### In this project we will be working with the UCI adult dataset. We will be attempting to predict if people in the data set belong in a certain class by salary, either making <=50k or >50k per year."
   ]
  },
  {
   "cell_type": "code",
   "execution_count": 2,
   "metadata": {},
   "outputs": [],
   "source": [
    "import math\n",
    "import numpy as np\n",
    "import pandas as pd\n",
    "from datetime import datetime\n",
    "\n",
    "import seaborn as sns\n",
    "import matplotlib.pyplot as plt\n",
    "%matplotlib inline \n",
    "plt.style.use('seaborn-whitegrid')\n",
    "\n",
    "from sklearn.model_selection import train_test_split\n",
    "from sklearn.linear_model import LogisticRegression\n",
    "from sklearn import metrics\n",
    "from sklearn.metrics import classification_report\n",
    "from sklearn.metrics import confusion_matrix\n",
    "import statsmodels.api as sm"
   ]
  },
  {
   "cell_type": "code",
   "execution_count": 3,
   "metadata": {
    "collapsed": true
   },
   "outputs": [],
   "source": [
    "#Reading in the adult_sal.csv file and set it to a data frame called adult\n",
    "adult = pd.read_csv('adult_sal.csv')\n",
    "adult.drop(['Unnamed: 0'],axis=1,inplace=True)"
   ]
  },
  {
   "cell_type": "code",
   "execution_count": 4,
   "metadata": {},
   "outputs": [
    {
     "data": {
      "text/html": [
       "<div>\n",
       "<style>\n",
       "    .dataframe thead tr:only-child th {\n",
       "        text-align: right;\n",
       "    }\n",
       "\n",
       "    .dataframe thead th {\n",
       "        text-align: left;\n",
       "    }\n",
       "\n",
       "    .dataframe tbody tr th {\n",
       "        vertical-align: top;\n",
       "    }\n",
       "</style>\n",
       "<table border=\"1\" class=\"dataframe\">\n",
       "  <thead>\n",
       "    <tr style=\"text-align: right;\">\n",
       "      <th></th>\n",
       "      <th>age</th>\n",
       "      <th>type_employer</th>\n",
       "      <th>fnlwgt</th>\n",
       "      <th>education</th>\n",
       "      <th>education_num</th>\n",
       "      <th>marital</th>\n",
       "      <th>occupation</th>\n",
       "      <th>relationship</th>\n",
       "      <th>race</th>\n",
       "      <th>sex</th>\n",
       "      <th>capital_gain</th>\n",
       "      <th>capital_loss</th>\n",
       "      <th>hr_per_week</th>\n",
       "      <th>country</th>\n",
       "      <th>income</th>\n",
       "    </tr>\n",
       "  </thead>\n",
       "  <tbody>\n",
       "    <tr>\n",
       "      <th>0</th>\n",
       "      <td>39</td>\n",
       "      <td>State-gov</td>\n",
       "      <td>77516</td>\n",
       "      <td>Bachelors</td>\n",
       "      <td>13</td>\n",
       "      <td>Never-married</td>\n",
       "      <td>Adm-clerical</td>\n",
       "      <td>Not-in-family</td>\n",
       "      <td>White</td>\n",
       "      <td>Male</td>\n",
       "      <td>2174</td>\n",
       "      <td>0</td>\n",
       "      <td>40</td>\n",
       "      <td>United-States</td>\n",
       "      <td>&lt;=50K</td>\n",
       "    </tr>\n",
       "    <tr>\n",
       "      <th>1</th>\n",
       "      <td>50</td>\n",
       "      <td>Self-emp-not-inc</td>\n",
       "      <td>83311</td>\n",
       "      <td>Bachelors</td>\n",
       "      <td>13</td>\n",
       "      <td>Married-civ-spouse</td>\n",
       "      <td>Exec-managerial</td>\n",
       "      <td>Husband</td>\n",
       "      <td>White</td>\n",
       "      <td>Male</td>\n",
       "      <td>0</td>\n",
       "      <td>0</td>\n",
       "      <td>13</td>\n",
       "      <td>United-States</td>\n",
       "      <td>&lt;=50K</td>\n",
       "    </tr>\n",
       "    <tr>\n",
       "      <th>2</th>\n",
       "      <td>38</td>\n",
       "      <td>Private</td>\n",
       "      <td>215646</td>\n",
       "      <td>HS-grad</td>\n",
       "      <td>9</td>\n",
       "      <td>Divorced</td>\n",
       "      <td>Handlers-cleaners</td>\n",
       "      <td>Not-in-family</td>\n",
       "      <td>White</td>\n",
       "      <td>Male</td>\n",
       "      <td>0</td>\n",
       "      <td>0</td>\n",
       "      <td>40</td>\n",
       "      <td>United-States</td>\n",
       "      <td>&lt;=50K</td>\n",
       "    </tr>\n",
       "    <tr>\n",
       "      <th>3</th>\n",
       "      <td>53</td>\n",
       "      <td>Private</td>\n",
       "      <td>234721</td>\n",
       "      <td>11th</td>\n",
       "      <td>7</td>\n",
       "      <td>Married-civ-spouse</td>\n",
       "      <td>Handlers-cleaners</td>\n",
       "      <td>Husband</td>\n",
       "      <td>Black</td>\n",
       "      <td>Male</td>\n",
       "      <td>0</td>\n",
       "      <td>0</td>\n",
       "      <td>40</td>\n",
       "      <td>United-States</td>\n",
       "      <td>&lt;=50K</td>\n",
       "    </tr>\n",
       "    <tr>\n",
       "      <th>4</th>\n",
       "      <td>28</td>\n",
       "      <td>Private</td>\n",
       "      <td>338409</td>\n",
       "      <td>Bachelors</td>\n",
       "      <td>13</td>\n",
       "      <td>Married-civ-spouse</td>\n",
       "      <td>Prof-specialty</td>\n",
       "      <td>Wife</td>\n",
       "      <td>Black</td>\n",
       "      <td>Female</td>\n",
       "      <td>0</td>\n",
       "      <td>0</td>\n",
       "      <td>40</td>\n",
       "      <td>Cuba</td>\n",
       "      <td>&lt;=50K</td>\n",
       "    </tr>\n",
       "  </tbody>\n",
       "</table>\n",
       "</div>"
      ],
      "text/plain": [
       "   age     type_employer  fnlwgt  education  education_num  \\\n",
       "0   39         State-gov   77516  Bachelors             13   \n",
       "1   50  Self-emp-not-inc   83311  Bachelors             13   \n",
       "2   38           Private  215646    HS-grad              9   \n",
       "3   53           Private  234721       11th              7   \n",
       "4   28           Private  338409  Bachelors             13   \n",
       "\n",
       "              marital         occupation   relationship   race     sex  \\\n",
       "0       Never-married       Adm-clerical  Not-in-family  White    Male   \n",
       "1  Married-civ-spouse    Exec-managerial        Husband  White    Male   \n",
       "2            Divorced  Handlers-cleaners  Not-in-family  White    Male   \n",
       "3  Married-civ-spouse  Handlers-cleaners        Husband  Black    Male   \n",
       "4  Married-civ-spouse     Prof-specialty           Wife  Black  Female   \n",
       "\n",
       "   capital_gain  capital_loss  hr_per_week        country income  \n",
       "0          2174             0           40  United-States  <=50K  \n",
       "1             0             0           13  United-States  <=50K  \n",
       "2             0             0           40  United-States  <=50K  \n",
       "3             0             0           40  United-States  <=50K  \n",
       "4             0             0           40           Cuba  <=50K  "
      ]
     },
     "execution_count": 4,
     "metadata": {},
     "output_type": "execute_result"
    }
   ],
   "source": [
    "#Checking the head of adult\n",
    "adult.head()"
   ]
  },
  {
   "cell_type": "code",
   "execution_count": 5,
   "metadata": {},
   "outputs": [
    {
     "name": "stdout",
     "output_type": "stream",
     "text": [
      "<class 'pandas.core.frame.DataFrame'>\n",
      "RangeIndex: 32561 entries, 0 to 32560\n",
      "Data columns (total 15 columns):\n",
      "age              32561 non-null int64\n",
      "type_employer    32561 non-null object\n",
      "fnlwgt           32561 non-null int64\n",
      "education        32561 non-null object\n",
      "education_num    32561 non-null int64\n",
      "marital          32561 non-null object\n",
      "occupation       32561 non-null object\n",
      "relationship     32561 non-null object\n",
      "race             32561 non-null object\n",
      "sex              32561 non-null object\n",
      "capital_gain     32561 non-null int64\n",
      "capital_loss     32561 non-null int64\n",
      "hr_per_week      32561 non-null int64\n",
      "country          32561 non-null object\n",
      "income           32561 non-null object\n",
      "dtypes: int64(6), object(9)\n",
      "memory usage: 3.7+ MB\n"
     ]
    }
   ],
   "source": [
    "#Checking the summary of adult\n",
    "adult.info()"
   ]
  },
  {
   "cell_type": "markdown",
   "metadata": {},
   "source": [
    "# Data Cleaning"
   ]
  },
  {
   "cell_type": "code",
   "execution_count": 6,
   "metadata": {},
   "outputs": [
    {
     "name": "stdout",
     "output_type": "stream",
     "text": [
      "type_employer\n",
      "?                    1836\n",
      "Federal-gov           960\n",
      "Local-gov            2093\n",
      "Never-worked            7\n",
      "Private             22696\n",
      "Self-emp-inc         1116\n",
      "Self-emp-not-inc     2541\n",
      "State-gov            1298\n",
      "Without-pay            14\n",
      "Name: income, dtype: int64\n"
     ]
    }
   ],
   "source": [
    "#type_employer column\n",
    "print(adult.groupby(['type_employer'], axis=0)['income'].count())"
   ]
  },
  {
   "cell_type": "code",
   "execution_count": 7,
   "metadata": {},
   "outputs": [
    {
     "name": "stdout",
     "output_type": "stream",
     "text": [
      "type_employer\n",
      "?               1836\n",
      "Federal-gov      960\n",
      "Private        22696\n",
      "SL-gov          3391\n",
      "Unemployed        21\n",
      "self-emp        3657\n",
      "Name: income, dtype: int64\n"
     ]
    }
   ],
   "source": [
    "#Combine these two smallest groups into a single group called \"Unemployed\"\n",
    "#Combine State and Local gov jobs into a category called SL-gov \n",
    "#Combine self-employed jobs into a category called self-emp\n",
    "def unemp (x):\n",
    "    if (x=='Never-worked') | (x=='Without-pay'): return 'Unemployed'\n",
    "    elif (x=='Local-gov') | (x=='State-gov'): return 'SL-gov'\n",
    "    elif (x=='Self-emp-inc') | (x=='Self-emp-not-inc'): return 'self-emp'\n",
    "    else: return x\n",
    "\n",
    "adult['type_employer']=adult['type_employer'].apply(unemp)\n",
    "print(adult.groupby(['type_employer'], axis=0)['income'].count())"
   ]
  },
  {
   "cell_type": "code",
   "execution_count": 8,
   "metadata": {},
   "outputs": [
    {
     "name": "stdout",
     "output_type": "stream",
     "text": [
      "marital\n",
      "Divorced                  4443\n",
      "Married-AF-spouse           23\n",
      "Married-civ-spouse       14976\n",
      "Married-spouse-absent      418\n",
      "Never-married            10683\n",
      "Separated                 1025\n",
      "Widowed                    993\n",
      "Name: income, dtype: int64\n"
     ]
    }
   ],
   "source": [
    "#marital column\n",
    "print(adult.groupby(['marital'], axis=0)['income'].count())"
   ]
  },
  {
   "cell_type": "code",
   "execution_count": 9,
   "metadata": {},
   "outputs": [
    {
     "name": "stdout",
     "output_type": "stream",
     "text": [
      "marital\n",
      "Married          15417\n",
      "Never-married    10683\n",
      "Not-Married       6461\n",
      "Name: income, dtype: int64\n"
     ]
    }
   ],
   "source": [
    "#Reducing this to three groups: Married, Not-Married, and Never-Married\n",
    "def mar_status (x):\n",
    "    if (x=='Never-married'): return 'Never-married'\n",
    "    elif (x=='Divorced') | (x=='Separated') | (x=='Widowed'): return 'Not-Married'\n",
    "    else: return 'Married'\n",
    "\n",
    "adult['marital']=adult['marital'].apply(mar_status)\n",
    "print(adult.groupby(['marital'], axis=0)['income'].count())"
   ]
  },
  {
   "cell_type": "code",
   "execution_count": 10,
   "metadata": {},
   "outputs": [
    {
     "name": "stdout",
     "output_type": "stream",
     "text": [
      "country\n",
      "?                               583\n",
      "Cambodia                         19\n",
      "Canada                          121\n",
      "China                            75\n",
      "Columbia                         59\n",
      "Cuba                             95\n",
      "Dominican-Republic               70\n",
      "Ecuador                          28\n",
      "El-Salvador                     106\n",
      "England                          90\n",
      "France                           29\n",
      "Germany                         137\n",
      "Greece                           29\n",
      "Guatemala                        64\n",
      "Haiti                            44\n",
      "Holand-Netherlands                1\n",
      "Honduras                         13\n",
      "Hong                             20\n",
      "Hungary                          13\n",
      "India                           100\n",
      "Iran                             43\n",
      "Ireland                          24\n",
      "Italy                            73\n",
      "Jamaica                          81\n",
      "Japan                            62\n",
      "Laos                             18\n",
      "Mexico                          643\n",
      "Nicaragua                        34\n",
      "Outlying-US(Guam-USVI-etc)       14\n",
      "Peru                             31\n",
      "Philippines                     198\n",
      "Poland                           60\n",
      "Portugal                         37\n",
      "Puerto-Rico                     114\n",
      "Scotland                         12\n",
      "South                            80\n",
      "Taiwan                           51\n",
      "Thailand                         18\n",
      "Trinadad&Tobago                  19\n",
      "United-States                 29170\n",
      "Vietnam                          67\n",
      "Yugoslavia                       16\n",
      "Name: income, dtype: int64\n"
     ]
    }
   ],
   "source": [
    "#country column\n",
    "print(adult.groupby(['country'], axis=0)['income'].count())"
   ]
  },
  {
   "cell_type": "code",
   "execution_count": 11,
   "metadata": {
    "collapsed": true
   },
   "outputs": [],
   "source": [
    "#Grouping these countries together\n",
    "nam = ['Canada','United-States','Puerto-Rico']\n",
    "eur = ['England' ,'France', 'Germany' ,'Greece','Holand-Netherlands','Hungary','Ireland','Italy','Poland','Portugal','Scotland','Yugoslavia']\n",
    "asia = ['China','Hong','India','Iran','Cambodia','Japan', 'Laos' ,'Philippines' ,'Vietnam' ,'Taiwan', 'Thailand']\n",
    "latam = ['Columbia','Cuba','Dominican-Republic','Ecuador','El-Salvador','Guatemala','Haiti','Honduras','Mexico','Nicaragua','Outlying-US(Guam-USVI-etc)','Peru','Jamaica','Trinadad&Tobago']\n",
    "other = ['South']"
   ]
  },
  {
   "cell_type": "code",
   "execution_count": 12,
   "metadata": {},
   "outputs": [
    {
     "name": "stdout",
     "output_type": "stream",
     "text": [
      "country\n",
      "asia        671\n",
      "eur         521\n",
      "latam      1301\n",
      "nam       29405\n",
      "others      663\n",
      "Name: income, dtype: int64\n"
     ]
    }
   ],
   "source": [
    "def group_country (x):\n",
    "    if x in nam: return 'nam'\n",
    "    elif x in eur: return 'eur'\n",
    "    elif x in asia: return 'asia'\n",
    "    elif x in latam: return 'latam'\n",
    "    else: return 'others'\n",
    "\n",
    "adult['country']=adult['country'].apply(group_country)\n",
    "print(adult.groupby(['country'], axis=0)['income'].count())"
   ]
  },
  {
   "cell_type": "code",
   "execution_count": 13,
   "metadata": {},
   "outputs": [
    {
     "data": {
      "text/html": [
       "<div>\n",
       "<style>\n",
       "    .dataframe thead tr:only-child th {\n",
       "        text-align: right;\n",
       "    }\n",
       "\n",
       "    .dataframe thead th {\n",
       "        text-align: left;\n",
       "    }\n",
       "\n",
       "    .dataframe tbody tr th {\n",
       "        vertical-align: top;\n",
       "    }\n",
       "</style>\n",
       "<table border=\"1\" class=\"dataframe\">\n",
       "  <thead>\n",
       "    <tr style=\"text-align: right;\">\n",
       "      <th></th>\n",
       "      <th>age</th>\n",
       "      <th>type_employer</th>\n",
       "      <th>fnlwgt</th>\n",
       "      <th>education</th>\n",
       "      <th>education_num</th>\n",
       "      <th>marital</th>\n",
       "      <th>occupation</th>\n",
       "      <th>relationship</th>\n",
       "      <th>race</th>\n",
       "      <th>sex</th>\n",
       "      <th>capital_gain</th>\n",
       "      <th>capital_loss</th>\n",
       "      <th>hr_per_week</th>\n",
       "      <th>country</th>\n",
       "      <th>income</th>\n",
       "    </tr>\n",
       "  </thead>\n",
       "  <tbody>\n",
       "    <tr>\n",
       "      <th>0</th>\n",
       "      <td>39</td>\n",
       "      <td>SL-gov</td>\n",
       "      <td>77516</td>\n",
       "      <td>Bachelors</td>\n",
       "      <td>13</td>\n",
       "      <td>Never-married</td>\n",
       "      <td>Adm-clerical</td>\n",
       "      <td>Not-in-family</td>\n",
       "      <td>White</td>\n",
       "      <td>Male</td>\n",
       "      <td>2174</td>\n",
       "      <td>0</td>\n",
       "      <td>40</td>\n",
       "      <td>nam</td>\n",
       "      <td>&lt;=50K</td>\n",
       "    </tr>\n",
       "    <tr>\n",
       "      <th>1</th>\n",
       "      <td>50</td>\n",
       "      <td>self-emp</td>\n",
       "      <td>83311</td>\n",
       "      <td>Bachelors</td>\n",
       "      <td>13</td>\n",
       "      <td>Married</td>\n",
       "      <td>Exec-managerial</td>\n",
       "      <td>Husband</td>\n",
       "      <td>White</td>\n",
       "      <td>Male</td>\n",
       "      <td>0</td>\n",
       "      <td>0</td>\n",
       "      <td>13</td>\n",
       "      <td>nam</td>\n",
       "      <td>&lt;=50K</td>\n",
       "    </tr>\n",
       "    <tr>\n",
       "      <th>2</th>\n",
       "      <td>38</td>\n",
       "      <td>Private</td>\n",
       "      <td>215646</td>\n",
       "      <td>HS-grad</td>\n",
       "      <td>9</td>\n",
       "      <td>Not-Married</td>\n",
       "      <td>Handlers-cleaners</td>\n",
       "      <td>Not-in-family</td>\n",
       "      <td>White</td>\n",
       "      <td>Male</td>\n",
       "      <td>0</td>\n",
       "      <td>0</td>\n",
       "      <td>40</td>\n",
       "      <td>nam</td>\n",
       "      <td>&lt;=50K</td>\n",
       "    </tr>\n",
       "    <tr>\n",
       "      <th>3</th>\n",
       "      <td>53</td>\n",
       "      <td>Private</td>\n",
       "      <td>234721</td>\n",
       "      <td>11th</td>\n",
       "      <td>7</td>\n",
       "      <td>Married</td>\n",
       "      <td>Handlers-cleaners</td>\n",
       "      <td>Husband</td>\n",
       "      <td>Black</td>\n",
       "      <td>Male</td>\n",
       "      <td>0</td>\n",
       "      <td>0</td>\n",
       "      <td>40</td>\n",
       "      <td>nam</td>\n",
       "      <td>&lt;=50K</td>\n",
       "    </tr>\n",
       "    <tr>\n",
       "      <th>4</th>\n",
       "      <td>28</td>\n",
       "      <td>Private</td>\n",
       "      <td>338409</td>\n",
       "      <td>Bachelors</td>\n",
       "      <td>13</td>\n",
       "      <td>Married</td>\n",
       "      <td>Prof-specialty</td>\n",
       "      <td>Wife</td>\n",
       "      <td>Black</td>\n",
       "      <td>Female</td>\n",
       "      <td>0</td>\n",
       "      <td>0</td>\n",
       "      <td>40</td>\n",
       "      <td>latam</td>\n",
       "      <td>&lt;=50K</td>\n",
       "    </tr>\n",
       "    <tr>\n",
       "      <th>5</th>\n",
       "      <td>37</td>\n",
       "      <td>Private</td>\n",
       "      <td>284582</td>\n",
       "      <td>Masters</td>\n",
       "      <td>14</td>\n",
       "      <td>Married</td>\n",
       "      <td>Exec-managerial</td>\n",
       "      <td>Wife</td>\n",
       "      <td>White</td>\n",
       "      <td>Female</td>\n",
       "      <td>0</td>\n",
       "      <td>0</td>\n",
       "      <td>40</td>\n",
       "      <td>nam</td>\n",
       "      <td>&lt;=50K</td>\n",
       "    </tr>\n",
       "    <tr>\n",
       "      <th>6</th>\n",
       "      <td>49</td>\n",
       "      <td>Private</td>\n",
       "      <td>160187</td>\n",
       "      <td>9th</td>\n",
       "      <td>5</td>\n",
       "      <td>Married</td>\n",
       "      <td>Other-service</td>\n",
       "      <td>Not-in-family</td>\n",
       "      <td>Black</td>\n",
       "      <td>Female</td>\n",
       "      <td>0</td>\n",
       "      <td>0</td>\n",
       "      <td>16</td>\n",
       "      <td>latam</td>\n",
       "      <td>&lt;=50K</td>\n",
       "    </tr>\n",
       "    <tr>\n",
       "      <th>7</th>\n",
       "      <td>52</td>\n",
       "      <td>self-emp</td>\n",
       "      <td>209642</td>\n",
       "      <td>HS-grad</td>\n",
       "      <td>9</td>\n",
       "      <td>Married</td>\n",
       "      <td>Exec-managerial</td>\n",
       "      <td>Husband</td>\n",
       "      <td>White</td>\n",
       "      <td>Male</td>\n",
       "      <td>0</td>\n",
       "      <td>0</td>\n",
       "      <td>45</td>\n",
       "      <td>nam</td>\n",
       "      <td>&gt;50K</td>\n",
       "    </tr>\n",
       "    <tr>\n",
       "      <th>8</th>\n",
       "      <td>31</td>\n",
       "      <td>Private</td>\n",
       "      <td>45781</td>\n",
       "      <td>Masters</td>\n",
       "      <td>14</td>\n",
       "      <td>Never-married</td>\n",
       "      <td>Prof-specialty</td>\n",
       "      <td>Not-in-family</td>\n",
       "      <td>White</td>\n",
       "      <td>Female</td>\n",
       "      <td>14084</td>\n",
       "      <td>0</td>\n",
       "      <td>50</td>\n",
       "      <td>nam</td>\n",
       "      <td>&gt;50K</td>\n",
       "    </tr>\n",
       "    <tr>\n",
       "      <th>9</th>\n",
       "      <td>42</td>\n",
       "      <td>Private</td>\n",
       "      <td>159449</td>\n",
       "      <td>Bachelors</td>\n",
       "      <td>13</td>\n",
       "      <td>Married</td>\n",
       "      <td>Exec-managerial</td>\n",
       "      <td>Husband</td>\n",
       "      <td>White</td>\n",
       "      <td>Male</td>\n",
       "      <td>5178</td>\n",
       "      <td>0</td>\n",
       "      <td>40</td>\n",
       "      <td>nam</td>\n",
       "      <td>&gt;50K</td>\n",
       "    </tr>\n",
       "  </tbody>\n",
       "</table>\n",
       "</div>"
      ],
      "text/plain": [
       "   age type_employer  fnlwgt  education  education_num        marital  \\\n",
       "0   39        SL-gov   77516  Bachelors             13  Never-married   \n",
       "1   50      self-emp   83311  Bachelors             13        Married   \n",
       "2   38       Private  215646    HS-grad              9    Not-Married   \n",
       "3   53       Private  234721       11th              7        Married   \n",
       "4   28       Private  338409  Bachelors             13        Married   \n",
       "5   37       Private  284582    Masters             14        Married   \n",
       "6   49       Private  160187        9th              5        Married   \n",
       "7   52      self-emp  209642    HS-grad              9        Married   \n",
       "8   31       Private   45781    Masters             14  Never-married   \n",
       "9   42       Private  159449  Bachelors             13        Married   \n",
       "\n",
       "          occupation   relationship   race     sex  capital_gain  \\\n",
       "0       Adm-clerical  Not-in-family  White    Male          2174   \n",
       "1    Exec-managerial        Husband  White    Male             0   \n",
       "2  Handlers-cleaners  Not-in-family  White    Male             0   \n",
       "3  Handlers-cleaners        Husband  Black    Male             0   \n",
       "4     Prof-specialty           Wife  Black  Female             0   \n",
       "5    Exec-managerial           Wife  White  Female             0   \n",
       "6      Other-service  Not-in-family  Black  Female             0   \n",
       "7    Exec-managerial        Husband  White    Male             0   \n",
       "8     Prof-specialty  Not-in-family  White  Female         14084   \n",
       "9    Exec-managerial        Husband  White    Male          5178   \n",
       "\n",
       "   capital_loss  hr_per_week country income  \n",
       "0             0           40     nam  <=50K  \n",
       "1             0           13     nam  <=50K  \n",
       "2             0           40     nam  <=50K  \n",
       "3             0           40     nam  <=50K  \n",
       "4             0           40   latam  <=50K  \n",
       "5             0           40     nam  <=50K  \n",
       "6             0           16   latam  <=50K  \n",
       "7             0           45     nam   >50K  \n",
       "8             0           50     nam   >50K  \n",
       "9             0           40     nam   >50K  "
      ]
     },
     "execution_count": 13,
     "metadata": {},
     "output_type": "execute_result"
    }
   ],
   "source": [
    "#Checking the head of adult\n",
    "adult.head(10)"
   ]
  },
  {
   "cell_type": "markdown",
   "metadata": {},
   "source": [
    "# Missing Data"
   ]
  },
  {
   "cell_type": "code",
   "execution_count": 14,
   "metadata": {},
   "outputs": [
    {
     "name": "stdout",
     "output_type": "stream",
     "text": [
      "<class 'pandas.core.frame.DataFrame'>\n",
      "RangeIndex: 32561 entries, 0 to 32560\n",
      "Data columns (total 15 columns):\n",
      "age              32561 non-null int64\n",
      "type_employer    30725 non-null object\n",
      "fnlwgt           32561 non-null int64\n",
      "education        32561 non-null object\n",
      "education_num    32561 non-null int64\n",
      "marital          32561 non-null object\n",
      "occupation       30718 non-null object\n",
      "relationship     32561 non-null object\n",
      "race             32561 non-null object\n",
      "sex              32561 non-null object\n",
      "capital_gain     32561 non-null int64\n",
      "capital_loss     32561 non-null int64\n",
      "hr_per_week      32561 non-null int64\n",
      "country          32561 non-null object\n",
      "income           32561 non-null object\n",
      "dtypes: int64(6), object(9)\n",
      "memory usage: 3.7+ MB\n"
     ]
    }
   ],
   "source": [
    "#Converting any cell with a '?' or a ' ?' value to a missing value\n",
    "adult.replace('?',np.NaN,inplace=True)\n",
    "adult.info()"
   ]
  },
  {
   "cell_type": "code",
   "execution_count": 15,
   "metadata": {},
   "outputs": [
    {
     "data": {
      "text/plain": [
       "<matplotlib.axes._subplots.AxesSubplot at 0x25ead437358>"
      ]
     },
     "execution_count": 15,
     "metadata": {},
     "output_type": "execute_result"
    },
    {
     "data": {
      "image/png": "[encoded data removed]",
      "text/plain": [
       "<matplotlib.figure.Figure at 0x25ead026240>"
      ]
     },
     "metadata": {},
     "output_type": "display_data"
    }
   ],
   "source": [
    "#Missing data heatmap\n",
    "plt.figure(figsize=(8,4))\n",
    "sns.heatmap(adult.isnull(),yticklabels=False,cbar=False,cmap='inferno')"
   ]
  },
  {
   "cell_type": "code",
   "execution_count": 16,
   "metadata": {},
   "outputs": [
    {
     "name": "stdout",
     "output_type": "stream",
     "text": [
      "<class 'pandas.core.frame.DataFrame'>\n",
      "Int64Index: 30718 entries, 0 to 32560\n",
      "Data columns (total 15 columns):\n",
      "age              30718 non-null int64\n",
      "type_employer    30718 non-null object\n",
      "fnlwgt           30718 non-null int64\n",
      "education        30718 non-null object\n",
      "education_num    30718 non-null int64\n",
      "marital          30718 non-null object\n",
      "occupation       30718 non-null object\n",
      "relationship     30718 non-null object\n",
      "race             30718 non-null object\n",
      "sex              30718 non-null object\n",
      "capital_gain     30718 non-null int64\n",
      "capital_loss     30718 non-null int64\n",
      "hr_per_week      30718 non-null int64\n",
      "country          30718 non-null object\n",
      "income           30718 non-null object\n",
      "dtypes: int64(6), object(9)\n",
      "memory usage: 3.7+ MB\n"
     ]
    },
    {
     "data": {
      "image/png": "[encoded data removed]",
      "text/plain": [
       "<matplotlib.figure.Figure at 0x25ead9a26d8>"
      ]
     },
     "metadata": {},
     "output_type": "display_data"
    }
   ],
   "source": [
    "#Dropping missing data\n",
    "adult.dropna(axis=0,inplace=True)\n",
    "plt.figure(figsize=(8,4))\n",
    "sns.heatmap(adult.isnull(),yticklabels=False,cbar=False,cmap='inferno')\n",
    "adult.info()"
   ]
  },
  {
   "cell_type": "markdown",
   "metadata": {},
   "source": [
    "# Exploratory Data Analysis"
   ]
  },
  {
   "cell_type": "code",
   "execution_count": 17,
   "metadata": {},
   "outputs": [
    {
     "data": {
      "text/plain": [
       "<matplotlib.axes._subplots.AxesSubplot at 0x25eadd4cd30>"
      ]
     },
     "execution_count": 17,
     "metadata": {},
     "output_type": "execute_result"
    },
    {
     "data": {
      "image/png": "[encoded data removed]",
      "text/plain": [
       "<matplotlib.figure.Figure at 0x25eadd5f7b8>"
      ]
     },
     "metadata": {},
     "output_type": "display_data"
    }
   ],
   "source": [
    "#histogram of age, colored by income\n",
    "plt.figure(figsize=(8,4))\n",
    "adult[adult['income']=='<=50K']['age'].plot.hist(bins=50,color='orange',edgecolor='white')\n",
    "adult[adult['income']=='>50K']['age'].plot.hist(bins=50,color='purple',edgecolor='white')"
   ]
  },
  {
   "cell_type": "code",
   "execution_count": 18,
   "metadata": {},
   "outputs": [
    {
     "data": {
      "text/plain": [
       "<matplotlib.axes._subplots.AxesSubplot at 0x25ead8c1f98>"
      ]
     },
     "execution_count": 18,
     "metadata": {},
     "output_type": "execute_result"
    },
    {
     "data": {
      "image/png": "[encoded data removed]",
      "text/plain": [
       "<matplotlib.figure.Figure at 0x25ead706a58>"
      ]
     },
     "metadata": {},
     "output_type": "display_data"
    }
   ],
   "source": [
    "#Plotting a histogram of hours worked per week\n",
    "plt.figure(figsize=(8,4))\n",
    "adult['hr_per_week'].plot.hist(bins=25,color='darkred',edgecolor='white')"
   ]
  },
  {
   "cell_type": "code",
   "execution_count": 19,
   "metadata": {},
   "outputs": [
    {
     "data": {
      "text/plain": [
       "<matplotlib.legend.Legend at 0x25ead706438>"
      ]
     },
     "execution_count": 19,
     "metadata": {},
     "output_type": "execute_result"
    },
    {
     "data": {
      "text/plain": [
       "<matplotlib.figure.Figure at 0x25ead9a6a90>"
      ]
     },
     "metadata": {},
     "output_type": "display_data"
    },
    {
     "data": {
      "image/png": "[encoded data removed]",
      "text/plain": [
       "<matplotlib.figure.Figure at 0x25eae194978>"
      ]
     },
     "metadata": {},
     "output_type": "display_data"
    }
   ],
   "source": [
    "#Creating a barplot of region with the fill color defined by income class\n",
    "adult.rename(columns={'country': 'region'}, inplace=True)\n",
    "\n",
    "temp = adult.pivot_table(values=['age'], index=['region'], columns=['income'], aggfunc='count')\n",
    "plt.figure(figsize=(8,4))\n",
    "temp.plot(kind=\"bar\",stacked=True)\n",
    "plt.legend(loc='center left', bbox_to_anchor=(1.0, 0.5))"
   ]
  },
  {
   "cell_type": "markdown",
   "metadata": {},
   "source": [
    "# Building the Model"
   ]
  },
  {
   "cell_type": "code",
   "execution_count": 20,
   "metadata": {
    "collapsed": true
   },
   "outputs": [],
   "source": [
    "#Getting the dummies\n",
    "type_employer_Bin = pd.get_dummies(adult['type_employer'],drop_first=True,prefix='type_employer')\n",
    "education_Bin = pd.get_dummies(adult['education'],drop_first=True,prefix='education')\n",
    "marital_Bin = pd.get_dummies(adult['marital'],drop_first=True,prefix='marital')\n",
    "occupation_Bin = pd.get_dummies(adult['occupation'],drop_first=True,prefix='occupation')\n",
    "relationship_Bin = pd.get_dummies(adult['relationship'],drop_first=True,prefix='relationship')\n",
    "region_Bin = pd.get_dummies(adult['region'],drop_first=True,prefix='region')\n",
    "race_Bin = pd.get_dummies(adult['race'],drop_first=True,prefix='race')\n",
    "sex_Bin = pd.get_dummies(adult['sex'],drop_first=True,prefix='sex')\n",
    "\n",
    "income_Bin = pd.get_dummies(adult['income'],drop_first=True,prefix='income')\n",
    "\n",
    "df = pd.concat([adult[['age','fnlwgt','capital_gain','capital_loss','hr_per_week']], type_employer_Bin,education_Bin,marital_Bin,occupation_Bin,relationship_Bin,region_Bin,race_Bin,sex_Bin,income_Bin],axis=1)"
   ]
  },
  {
   "cell_type": "code",
   "execution_count": 21,
   "metadata": {
    "collapsed": true
   },
   "outputs": [],
   "source": [
    "#Splitting the data into a train and test set \n",
    "x = df.drop('income_>50K',axis=1)\n",
    "y = df['income_>50K']\n",
    "x_train, x_test, y_train, y_test = train_test_split(x,y,test_size=0.3, random_state=101)"
   ]
  },
  {
   "cell_type": "code",
   "execution_count": 24,
   "metadata": {},
   "outputs": [
    {
     "name": "stdout",
     "output_type": "stream",
     "text": [
      "Warning: Maximum number of iterations has been exceeded.\n",
      "         Current function value: inf\n",
      "         Iterations: 35\n"
     ]
    },
    {
     "name": "stderr",
     "output_type": "stream",
     "text": [
      "C:\\Users\\rohit\\Anaconda3\\lib\\site-packages\\statsmodels\\discrete\\discrete_model.py:1214: RuntimeWarning: overflow encountered in exp\n",
      "  return 1/(1+np.exp(-X))\n",
      "C:\\Users\\rohit\\Anaconda3\\lib\\site-packages\\statsmodels\\discrete\\discrete_model.py:1264: RuntimeWarning: divide by zero encountered in log\n",
      "  return np.sum(np.log(self.cdf(q*np.dot(X,params))))\n",
      "C:\\Users\\rohit\\Anaconda3\\lib\\site-packages\\statsmodels\\base\\model.py:496: ConvergenceWarning: Maximum Likelihood optimization failed to converge. Check mle_retvals\n",
      "  \"Check mle_retvals\", ConvergenceWarning)\n"
     ]
    },
    {
     "data": {
      "text/html": [
       "<table class=\"simpletable\">\n",
       "<caption>Logit Regression Results</caption>\n",
       "<tr>\n",
       "  <th>Dep. Variable:</th>    <td>income_>50K</td>   <th>  No. Observations:  </th>   <td> 21502</td>   \n",
       "</tr>\n",
       "<tr>\n",
       "  <th>Model:</th>               <td>Logit</td>      <th>  Df Residuals:      </th>   <td> 21448</td>   \n",
       "</tr>\n",
       "<tr>\n",
       "  <th>Method:</th>               <td>MLE</td>       <th>  Df Model:          </th>   <td>    53</td>   \n",
       "</tr>\n",
       "<tr>\n",
       "  <th>Date:</th>          <td>Fri, 27 Oct 2017</td> <th>  Pseudo R-squ.:     </th>   <td>  -inf</td>   \n",
       "</tr>\n",
       "<tr>\n",
       "  <th>Time:</th>              <td>03:43:49</td>     <th>  Log-Likelihood:    </th>  <td>    -inf</td>  \n",
       "</tr>\n",
       "<tr>\n",
       "  <th>converged:</th>           <td>False</td>      <th>  LL-Null:           </th> <td>-4.5402e+06</td>\n",
       "</tr>\n",
       "<tr>\n",
       "  <th> </th>                      <td> </td>        <th>  LLR p-value:       </th>   <td> 1.000</td>   \n",
       "</tr>\n",
       "</table>\n",
       "<table class=\"simpletable\">\n",
       "<tr>\n",
       "                <td></td>                  <th>coef</th>     <th>std err</th>      <th>z</th>      <th>P>|z|</th>  <th>[0.025</th>    <th>0.975]</th>  \n",
       "</tr>\n",
       "<tr>\n",
       "  <th>const</th>                        <td>   -5.6240</td> <td>    0.445</td> <td>  -12.648</td> <td> 0.000</td> <td>   -6.496</td> <td>   -4.752</td>\n",
       "</tr>\n",
       "<tr>\n",
       "  <th>age</th>                          <td>    0.0277</td> <td>    0.002</td> <td>   13.838</td> <td> 0.000</td> <td>    0.024</td> <td>    0.032</td>\n",
       "</tr>\n",
       "<tr>\n",
       "  <th>fnlwgt</th>                       <td> 7.882e-07</td> <td> 2.07e-07</td> <td>    3.804</td> <td> 0.000</td> <td> 3.82e-07</td> <td> 1.19e-06</td>\n",
       "</tr>\n",
       "<tr>\n",
       "  <th>capital_gain</th>                 <td>    0.0003</td> <td> 1.28e-05</td> <td>   24.535</td> <td> 0.000</td> <td>    0.000</td> <td>    0.000</td>\n",
       "</tr>\n",
       "<tr>\n",
       "  <th>capital_loss</th>                 <td>    0.0006</td> <td> 4.54e-05</td> <td>   13.532</td> <td> 0.000</td> <td>    0.001</td> <td>    0.001</td>\n",
       "</tr>\n",
       "<tr>\n",
       "  <th>hr_per_week</th>                  <td>    0.0304</td> <td>    0.002</td> <td>   15.226</td> <td> 0.000</td> <td>    0.026</td> <td>    0.034</td>\n",
       "</tr>\n",
       "<tr>\n",
       "  <th>type_employer_Private</th>        <td>   -0.5733</td> <td>    0.109</td> <td>   -5.241</td> <td> 0.000</td> <td>   -0.788</td> <td>   -0.359</td>\n",
       "</tr>\n",
       "<tr>\n",
       "  <th>type_employer_SL-gov</th>         <td>   -0.7830</td> <td>    0.124</td> <td>   -6.326</td> <td> 0.000</td> <td>   -1.026</td> <td>   -0.540</td>\n",
       "</tr>\n",
       "<tr>\n",
       "  <th>type_employer_Unemployed</th>     <td>  -21.4108</td> <td> 2.92e+04</td> <td>   -0.001</td> <td> 0.999</td> <td>-5.72e+04</td> <td> 5.71e+04</td>\n",
       "</tr>\n",
       "<tr>\n",
       "  <th>type_employer_self-emp</th>       <td>   -0.8948</td> <td>    0.122</td> <td>   -7.340</td> <td> 0.000</td> <td>   -1.134</td> <td>   -0.656</td>\n",
       "</tr>\n",
       "<tr>\n",
       "  <th>education_11th</th>               <td>   -0.0398</td> <td>    0.261</td> <td>   -0.153</td> <td> 0.879</td> <td>   -0.551</td> <td>    0.471</td>\n",
       "</tr>\n",
       "<tr>\n",
       "  <th>education_12th</th>               <td>    0.4387</td> <td>    0.328</td> <td>    1.339</td> <td> 0.181</td> <td>   -0.204</td> <td>    1.081</td>\n",
       "</tr>\n",
       "<tr>\n",
       "  <th>education_1st-4th</th>            <td>   -0.5829</td> <td>    0.636</td> <td>   -0.916</td> <td> 0.359</td> <td>   -1.829</td> <td>    0.664</td>\n",
       "</tr>\n",
       "<tr>\n",
       "  <th>education_5th-6th</th>            <td>   -0.4950</td> <td>    0.435</td> <td>   -1.137</td> <td> 0.255</td> <td>   -1.348</td> <td>    0.358</td>\n",
       "</tr>\n",
       "<tr>\n",
       "  <th>education_7th-8th</th>            <td>   -0.5549</td> <td>    0.287</td> <td>   -1.936</td> <td> 0.053</td> <td>   -1.117</td> <td>    0.007</td>\n",
       "</tr>\n",
       "<tr>\n",
       "  <th>education_9th</th>                <td>   -0.1438</td> <td>    0.311</td> <td>   -0.462</td> <td> 0.644</td> <td>   -0.753</td> <td>    0.466</td>\n",
       "</tr>\n",
       "<tr>\n",
       "  <th>education_Assoc-acdm</th>         <td>    1.2358</td> <td>    0.216</td> <td>    5.722</td> <td> 0.000</td> <td>    0.813</td> <td>    1.659</td>\n",
       "</tr>\n",
       "<tr>\n",
       "  <th>education_Assoc-voc</th>          <td>    1.3284</td> <td>    0.208</td> <td>    6.387</td> <td> 0.000</td> <td>    0.921</td> <td>    1.736</td>\n",
       "</tr>\n",
       "<tr>\n",
       "  <th>education_Bachelors</th>          <td>    1.8711</td> <td>    0.194</td> <td>    9.644</td> <td> 0.000</td> <td>    1.491</td> <td>    2.251</td>\n",
       "</tr>\n",
       "<tr>\n",
       "  <th>education_Doctorate</th>          <td>    2.7977</td> <td>    0.263</td> <td>   10.650</td> <td> 0.000</td> <td>    2.283</td> <td>    3.313</td>\n",
       "</tr>\n",
       "<tr>\n",
       "  <th>education_HS-grad</th>            <td>    0.7691</td> <td>    0.189</td> <td>    4.063</td> <td> 0.000</td> <td>    0.398</td> <td>    1.140</td>\n",
       "</tr>\n",
       "<tr>\n",
       "  <th>education_Masters</th>            <td>    2.2381</td> <td>    0.207</td> <td>   10.832</td> <td> 0.000</td> <td>    1.833</td> <td>    2.643</td>\n",
       "</tr>\n",
       "<tr>\n",
       "  <th>education_Preschool</th>          <td>  -22.3288</td> <td> 1952.688</td> <td>   -0.011</td> <td> 0.991</td> <td>-3849.528</td> <td> 3804.870</td>\n",
       "</tr>\n",
       "<tr>\n",
       "  <th>education_Prof-school</th>        <td>    2.7413</td> <td>    0.247</td> <td>   11.096</td> <td> 0.000</td> <td>    2.257</td> <td>    3.226</td>\n",
       "</tr>\n",
       "<tr>\n",
       "  <th>education_Some-college</th>       <td>    1.1308</td> <td>    0.192</td> <td>    5.895</td> <td> 0.000</td> <td>    0.755</td> <td>    1.507</td>\n",
       "</tr>\n",
       "<tr>\n",
       "  <th>marital_Never-married</th>        <td>   -1.0863</td> <td>    0.205</td> <td>   -5.311</td> <td> 0.000</td> <td>   -1.487</td> <td>   -0.685</td>\n",
       "</tr>\n",
       "<tr>\n",
       "  <th>marital_Not-Married</th>          <td>   -0.5846</td> <td>    0.204</td> <td>   -2.867</td> <td> 0.004</td> <td>   -0.984</td> <td>   -0.185</td>\n",
       "</tr>\n",
       "<tr>\n",
       "  <th>occupation_Armed-Forces</th>      <td>   -1.0312</td> <td>    1.635</td> <td>   -0.631</td> <td> 0.528</td> <td>   -4.235</td> <td>    2.172</td>\n",
       "</tr>\n",
       "<tr>\n",
       "  <th>occupation_Craft-repair</th>      <td>    0.0788</td> <td>    0.095</td> <td>    0.831</td> <td> 0.406</td> <td>   -0.107</td> <td>    0.265</td>\n",
       "</tr>\n",
       "<tr>\n",
       "  <th>occupation_Exec-managerial</th>   <td>    0.8930</td> <td>    0.092</td> <td>    9.743</td> <td> 0.000</td> <td>    0.713</td> <td>    1.073</td>\n",
       "</tr>\n",
       "<tr>\n",
       "  <th>occupation_Farming-fishing</th>   <td>   -1.0462</td> <td>    0.166</td> <td>   -6.320</td> <td> 0.000</td> <td>   -1.371</td> <td>   -0.722</td>\n",
       "</tr>\n",
       "<tr>\n",
       "  <th>occupation_Handlers-cleaners</th> <td>   -0.4999</td> <td>    0.165</td> <td>   -3.026</td> <td> 0.002</td> <td>   -0.824</td> <td>   -0.176</td>\n",
       "</tr>\n",
       "<tr>\n",
       "  <th>occupation_Machine-op-inspct</th> <td>   -0.3670</td> <td>    0.123</td> <td>   -2.972</td> <td> 0.003</td> <td>   -0.609</td> <td>   -0.125</td>\n",
       "</tr>\n",
       "<tr>\n",
       "  <th>occupation_Other-service</th>     <td>   -0.8133</td> <td>    0.138</td> <td>   -5.873</td> <td> 0.000</td> <td>   -1.085</td> <td>   -0.542</td>\n",
       "</tr>\n",
       "<tr>\n",
       "  <th>occupation_Priv-house-serv</th>   <td>   -3.6707</td> <td>    1.751</td> <td>   -2.096</td> <td> 0.036</td> <td>   -7.103</td> <td>   -0.238</td>\n",
       "</tr>\n",
       "<tr>\n",
       "  <th>occupation_Prof-specialty</th>    <td>    0.5854</td> <td>    0.097</td> <td>    6.031</td> <td> 0.000</td> <td>    0.395</td> <td>    0.776</td>\n",
       "</tr>\n",
       "<tr>\n",
       "  <th>occupation_Protective-serv</th>   <td>    0.4006</td> <td>    0.149</td> <td>    2.683</td> <td> 0.007</td> <td>    0.108</td> <td>    0.693</td>\n",
       "</tr>\n",
       "<tr>\n",
       "  <th>occupation_Sales</th>             <td>    0.2484</td> <td>    0.098</td> <td>    2.534</td> <td> 0.011</td> <td>    0.056</td> <td>    0.440</td>\n",
       "</tr>\n",
       "<tr>\n",
       "  <th>occupation_Tech-support</th>      <td>    0.6358</td> <td>    0.133</td> <td>    4.796</td> <td> 0.000</td> <td>    0.376</td> <td>    0.896</td>\n",
       "</tr>\n",
       "<tr>\n",
       "  <th>occupation_Transport-moving</th>  <td>   -0.1323</td> <td>    0.118</td> <td>   -1.120</td> <td> 0.263</td> <td>   -0.364</td> <td>    0.099</td>\n",
       "</tr>\n",
       "<tr>\n",
       "  <th>relationship_Not-in-family</th>   <td>   -1.0806</td> <td>    0.201</td> <td>   -5.380</td> <td> 0.000</td> <td>   -1.474</td> <td>   -0.687</td>\n",
       "</tr>\n",
       "<tr>\n",
       "  <th>relationship_Other-relative</th>  <td>   -1.3301</td> <td>    0.274</td> <td>   -4.854</td> <td> 0.000</td> <td>   -1.867</td> <td>   -0.793</td>\n",
       "</tr>\n",
       "<tr>\n",
       "  <th>relationship_Own-child</th>       <td>   -2.1025</td> <td>    0.254</td> <td>   -8.294</td> <td> 0.000</td> <td>   -2.599</td> <td>   -1.606</td>\n",
       "</tr>\n",
       "<tr>\n",
       "  <th>relationship_Unmarried</th>       <td>   -1.2204</td> <td>    0.223</td> <td>   -5.473</td> <td> 0.000</td> <td>   -1.657</td> <td>   -0.783</td>\n",
       "</tr>\n",
       "<tr>\n",
       "  <th>relationship_Wife</th>            <td>    1.3046</td> <td>    0.123</td> <td>   10.570</td> <td> 0.000</td> <td>    1.063</td> <td>    1.546</td>\n",
       "</tr>\n",
       "<tr>\n",
       "  <th>region_eur</th>                   <td>    0.2867</td> <td>    0.255</td> <td>    1.122</td> <td> 0.262</td> <td>   -0.214</td> <td>    0.787</td>\n",
       "</tr>\n",
       "<tr>\n",
       "  <th>region_latam</th>                 <td>   -0.5067</td> <td>    0.258</td> <td>   -1.966</td> <td> 0.049</td> <td>   -1.012</td> <td>   -0.001</td>\n",
       "</tr>\n",
       "<tr>\n",
       "  <th>region_nam</th>                   <td>    0.0891</td> <td>    0.205</td> <td>    0.436</td> <td> 0.663</td> <td>   -0.312</td> <td>    0.490</td>\n",
       "</tr>\n",
       "<tr>\n",
       "  <th>region_others</th>                <td>   -0.2167</td> <td>    0.228</td> <td>   -0.949</td> <td> 0.343</td> <td>   -0.665</td> <td>    0.231</td>\n",
       "</tr>\n",
       "<tr>\n",
       "  <th>race_Asian-Pac-Islander</th>      <td>    0.8322</td> <td>    0.331</td> <td>    2.513</td> <td> 0.012</td> <td>    0.183</td> <td>    1.481</td>\n",
       "</tr>\n",
       "<tr>\n",
       "  <th>race_Black</th>                   <td>    0.7110</td> <td>    0.298</td> <td>    2.389</td> <td> 0.017</td> <td>    0.128</td> <td>    1.294</td>\n",
       "</tr>\n",
       "<tr>\n",
       "  <th>race_Other</th>                   <td>    0.3848</td> <td>    0.444</td> <td>    0.866</td> <td> 0.386</td> <td>   -0.486</td> <td>    1.255</td>\n",
       "</tr>\n",
       "<tr>\n",
       "  <th>race_White</th>                   <td>    0.8527</td> <td>    0.285</td> <td>    2.989</td> <td> 0.003</td> <td>    0.294</td> <td>    1.412</td>\n",
       "</tr>\n",
       "<tr>\n",
       "  <th>sex_Male</th>                     <td>    0.8210</td> <td>    0.094</td> <td>    8.778</td> <td> 0.000</td> <td>    0.638</td> <td>    1.004</td>\n",
       "</tr>\n",
       "</table>"
      ],
      "text/plain": [
       "<class 'statsmodels.iolib.summary.Summary'>\n",
       "\"\"\"\n",
       "                           Logit Regression Results                           \n",
       "==============================================================================\n",
       "Dep. Variable:            income_>50K   No. Observations:                21502\n",
       "Model:                          Logit   Df Residuals:                    21448\n",
       "Method:                           MLE   Df Model:                           53\n",
       "Date:                Fri, 27 Oct 2017   Pseudo R-squ.:                    -inf\n",
       "Time:                        03:43:49   Log-Likelihood:                   -inf\n",
       "converged:                      False   LL-Null:                   -4.5402e+06\n",
       "                                        LLR p-value:                     1.000\n",
       "================================================================================================\n",
       "                                   coef    std err          z      P>|z|      [0.025      0.975]\n",
       "------------------------------------------------------------------------------------------------\n",
       "const                           -5.6240      0.445    -12.648      0.000      -6.496      -4.752\n",
       "age                              0.0277      0.002     13.838      0.000       0.024       0.032\n",
       "fnlwgt                        7.882e-07   2.07e-07      3.804      0.000    3.82e-07    1.19e-06\n",
       "capital_gain                     0.0003   1.28e-05     24.535      0.000       0.000       0.000\n",
       "capital_loss                     0.0006   4.54e-05     13.532      0.000       0.001       0.001\n",
       "hr_per_week                      0.0304      0.002     15.226      0.000       0.026       0.034\n",
       "type_employer_Private           -0.5733      0.109     -5.241      0.000      -0.788      -0.359\n",
       "type_employer_SL-gov            -0.7830      0.124     -6.326      0.000      -1.026      -0.540\n",
       "type_employer_Unemployed       -21.4108   2.92e+04     -0.001      0.999   -5.72e+04    5.71e+04\n",
       "type_employer_self-emp          -0.8948      0.122     -7.340      0.000      -1.134      -0.656\n",
       "education_11th                  -0.0398      0.261     -0.153      0.879      -0.551       0.471\n",
       "education_12th                   0.4387      0.328      1.339      0.181      -0.204       1.081\n",
       "education_1st-4th               -0.5829      0.636     -0.916      0.359      -1.829       0.664\n",
       "education_5th-6th               -0.4950      0.435     -1.137      0.255      -1.348       0.358\n",
       "education_7th-8th               -0.5549      0.287     -1.936      0.053      -1.117       0.007\n",
       "education_9th                   -0.1438      0.311     -0.462      0.644      -0.753       0.466\n",
       "education_Assoc-acdm             1.2358      0.216      5.722      0.000       0.813       1.659\n",
       "education_Assoc-voc              1.3284      0.208      6.387      0.000       0.921       1.736\n",
       "education_Bachelors              1.8711      0.194      9.644      0.000       1.491       2.251\n",
       "education_Doctorate              2.7977      0.263     10.650      0.000       2.283       3.313\n",
       "education_HS-grad                0.7691      0.189      4.063      0.000       0.398       1.140\n",
       "education_Masters                2.2381      0.207     10.832      0.000       1.833       2.643\n",
       "education_Preschool            -22.3288   1952.688     -0.011      0.991   -3849.528    3804.870\n",
       "education_Prof-school            2.7413      0.247     11.096      0.000       2.257       3.226\n",
       "education_Some-college           1.1308      0.192      5.895      0.000       0.755       1.507\n",
       "marital_Never-married           -1.0863      0.205     -5.311      0.000      -1.487      -0.685\n",
       "marital_Not-Married             -0.5846      0.204     -2.867      0.004      -0.984      -0.185\n",
       "occupation_Armed-Forces         -1.0312      1.635     -0.631      0.528      -4.235       2.172\n",
       "occupation_Craft-repair          0.0788      0.095      0.831      0.406      -0.107       0.265\n",
       "occupation_Exec-managerial       0.8930      0.092      9.743      0.000       0.713       1.073\n",
       "occupation_Farming-fishing      -1.0462      0.166     -6.320      0.000      -1.371      -0.722\n",
       "occupation_Handlers-cleaners    -0.4999      0.165     -3.026      0.002      -0.824      -0.176\n",
       "occupation_Machine-op-inspct    -0.3670      0.123     -2.972      0.003      -0.609      -0.125\n",
       "occupation_Other-service        -0.8133      0.138     -5.873      0.000      -1.085      -0.542\n",
       "occupation_Priv-house-serv      -3.6707      1.751     -2.096      0.036      -7.103      -0.238\n",
       "occupation_Prof-specialty        0.5854      0.097      6.031      0.000       0.395       0.776\n",
       "occupation_Protective-serv       0.4006      0.149      2.683      0.007       0.108       0.693\n",
       "occupation_Sales                 0.2484      0.098      2.534      0.011       0.056       0.440\n",
       "occupation_Tech-support          0.6358      0.133      4.796      0.000       0.376       0.896\n",
       "occupation_Transport-moving     -0.1323      0.118     -1.120      0.263      -0.364       0.099\n",
       "relationship_Not-in-family      -1.0806      0.201     -5.380      0.000      -1.474      -0.687\n",
       "relationship_Other-relative     -1.3301      0.274     -4.854      0.000      -1.867      -0.793\n",
       "relationship_Own-child          -2.1025      0.254     -8.294      0.000      -2.599      -1.606\n",
       "relationship_Unmarried          -1.2204      0.223     -5.473      0.000      -1.657      -0.783\n",
       "relationship_Wife                1.3046      0.123     10.570      0.000       1.063       1.546\n",
       "region_eur                       0.2867      0.255      1.122      0.262      -0.214       0.787\n",
       "region_latam                    -0.5067      0.258     -1.966      0.049      -1.012      -0.001\n",
       "region_nam                       0.0891      0.205      0.436      0.663      -0.312       0.490\n",
       "region_others                   -0.2167      0.228     -0.949      0.343      -0.665       0.231\n",
       "race_Asian-Pac-Islander          0.8322      0.331      2.513      0.012       0.183       1.481\n",
       "race_Black                       0.7110      0.298      2.389      0.017       0.128       1.294\n",
       "race_Other                       0.3848      0.444      0.866      0.386      -0.486       1.255\n",
       "race_White                       0.8527      0.285      2.989      0.003       0.294       1.412\n",
       "sex_Male                         0.8210      0.094      8.778      0.000       0.638       1.004\n",
       "================================================================================================\n",
       "\"\"\""
      ]
     },
     "execution_count": 24,
     "metadata": {},
     "output_type": "execute_result"
    }
   ],
   "source": [
    "#Train and fit a logistic regression model on the training set.\n",
    "x_train = sm.add_constant(x_train).copy()\n",
    "logit = sm.Logit(y_train, x_train)\n",
    "result = logit.fit()\n",
    "result.summary()"
   ]
  },
  {
   "cell_type": "code",
   "execution_count": 25,
   "metadata": {},
   "outputs": [
    {
     "name": "stdout",
     "output_type": "stream",
     "text": [
      "[[6390  540]\n",
      " [ 901 1385]]\n"
     ]
    }
   ],
   "source": [
    "#Creating a confusion matrix\n",
    "x_test = sm.add_constant(x_test).copy()\n",
    "y_pred = result.predict(x_test)\n",
    "test_calc = pd.concat([pd.DataFrame(y_test),pd.DataFrame(y_pred)],axis=1)\n",
    "test_calc.rename(columns={0: 'predicted'}, inplace=True)\n",
    "\n",
    "test_calc['predicted'] = test_calc['predicted'].apply(lambda x: 1 if x > 0.5 else 0)\n",
    "df_table = confusion_matrix(test_calc['income_>50K'],test_calc['predicted'])\n",
    "print (df_table)"
   ]
  },
  {
   "cell_type": "code",
   "execution_count": 35,
   "metadata": {},
   "outputs": [
    {
     "name": "stdout",
     "output_type": "stream",
     "text": [
      "accuracy: 0.843641493056\n",
      "precision: 0.719480519481\n",
      "recall: 0.605861767279\n",
      "f1 score:  0.657800997388\n"
     ]
    }
   ],
   "source": [
    "#Performance of the model\n",
    "print('accuracy:', (df_table[0,0] + df_table[1,1]) / (df_table[0,0] + df_table[0,1] + df_table[1,0] + df_table[1,1]))\n",
    "print ('precision:', df_table[1,1] / (df_table[1,1] + df_table[0,1]))\n",
    "print('recall:', df_table[1,1] / (df_table[1,1] + df_table[1,0]))\n",
    "\n",
    "p = df_table[1,1] / (df_table[1,1] + df_table[0,1])\n",
    "r = df_table[1,1] / (df_table[1,1] + df_table[1,0])\n",
    "print('f1 score: ', (2*p*r)/(p+r))"
   ]
  },
  {
   "cell_type": "code",
   "execution_count": 36,
   "metadata": {},
   "outputs": [
    {
     "name": "stdout",
     "output_type": "stream",
     "text": [
      "             precision    recall  f1-score   support\n",
      "\n",
      "          0       0.88      0.92      0.90      6930\n",
      "          1       0.72      0.61      0.66      2286\n",
      "\n",
      "avg / total       0.84      0.84      0.84      9216\n",
      "\n"
     ]
    }
   ],
   "source": [
    "print (classification_report(test_calc['income_>50K'],test_calc['predicted']))"
   ]
  },
  {
   "cell_type": "code",
   "execution_count": null,
   "metadata": {
    "collapsed": true
   },
   "outputs": [],
   "source": []
  }
 ],
 "metadata": {
  "kernelspec": {
   "display_name": "Python 3",
   "language": "python",
   "name": "python3"
  },
  "language_info": {
   "codemirror_mode": {
    "name": "ipython",
    "version": 3
   },
   "file_extension": ".py",
   "mimetype": "text/x-python",
   "name": "python",
   "nbconvert_exporter": "python",
   "pygments_lexer": "ipython3",
   "version": "3.6.2"
  }
 },
 "nbformat": 4,
 "nbformat_minor": 2
}
