{
 "cells": [
  {
   "cell_type": "markdown",
   "metadata": {},
   "source": [
    "# Support Vector Machines Project"
   ]
  },
  {
   "cell_type": "markdown",
   "metadata": {},
   "source": [
    "### For this project we will be exploring publicly available data from LendingClub.com. Lending Club connects people who need money (borrowers) with people who have money (investors)."
   ]
  },
  {
   "cell_type": "markdown",
   "metadata": {},
   "source": [
    "### We will use lending data from 2007-2010 and be trying to classify and predict whether or not the borrower paid back their loan in full"
   ]
  },
  {
   "cell_type": "markdown",
   "metadata": {},
   "source": [
    "##### Here are what the columns represent:\n",
    "##### credit.policy: 1 if the customer meets the credit underwriting criteria of LendingClub.com, and 0 otherwise.\n",
    "##### purpose: The purpose of the loan (takes values \"credit_card\", \"debt_consolidation\", \"educational\", \"major_purchase\", \"small_business\", and \"all_other\").\n",
    "##### int.rate: The interest rate of the loan, as a proportion (a rate of 11% would be stored as 0.11). Borrowers judged by LendingClub.com to be more risky are assigned higher interest rates.\n",
    "##### installment: The monthly installments owed by the borrower if the loan is funded.\n",
    "##### log.annual.inc: The natural log of the self-reported annual income of the borrower.\n",
    "##### dti: The debt-to-income ratio of the borrower (amount of debt divided by annual income).\n",
    "##### fico: The FICO credit score of the borrower.\n",
    "##### days.with.cr.line: The number of days the borrower has had a credit line.\n",
    "##### revol.bal: The borrower's revolving balance (amount unpaid at the end of the credit card billing cycle).\n",
    "##### revol.util: The borrower's revolving line utilization rate (the amount of the credit line used relative to total credit available).\n",
    "##### inq.last.6mths: The borrower's number of inquiries by creditors in the last 6 months.\n",
    "##### delinq.2yrs: The number of times the borrower had been 30+ days past due on a payment in the past 2 years.\n",
    "##### pub.rec: The borrower's number of derogatory public records (bankruptcy filings, tax liens, or judgments)."
   ]
  },
  {
   "cell_type": "code",
   "execution_count": 1,
   "metadata": {
    "collapsed": true
   },
   "outputs": [],
   "source": [
    "import math\n",
    "import numpy as np\n",
    "import pandas as pd\n",
    "from datetime import datetime\n",
    "\n",
    "import seaborn as sns\n",
    "import matplotlib.pyplot as plt\n",
    "%matplotlib inline \n",
    "plt.style.use('seaborn-whitegrid')\n",
    "\n",
    "from sklearn.model_selection import train_test_split\n",
    "from sklearn.svm import SVC\n",
    "from sklearn.metrics import classification_report\n",
    "from sklearn.metrics import confusion_matrix\n",
    "from sklearn.model_selection import GridSearchCV"
   ]
  },
  {
   "cell_type": "markdown",
   "metadata": {},
   "source": [
    "# Get the Data"
   ]
  },
  {
   "cell_type": "code",
   "execution_count": 2,
   "metadata": {},
   "outputs": [
    {
     "data": {
      "text/html": [
       "<div>\n",
       "<style>\n",
       "    .dataframe thead tr:only-child th {\n",
       "        text-align: right;\n",
       "    }\n",
       "\n",
       "    .dataframe thead th {\n",
       "        text-align: left;\n",
       "    }\n",
       "\n",
       "    .dataframe tbody tr th {\n",
       "        vertical-align: top;\n",
       "    }\n",
       "</style>\n",
       "<table border=\"1\" class=\"dataframe\">\n",
       "  <thead>\n",
       "    <tr style=\"text-align: right;\">\n",
       "      <th></th>\n",
       "      <th>credit.policy</th>\n",
       "      <th>purpose</th>\n",
       "      <th>int.rate</th>\n",
       "      <th>installment</th>\n",
       "      <th>log.annual.inc</th>\n",
       "      <th>dti</th>\n",
       "      <th>fico</th>\n",
       "      <th>days.with.cr.line</th>\n",
       "      <th>revol.bal</th>\n",
       "      <th>revol.util</th>\n",
       "      <th>inq.last.6mths</th>\n",
       "      <th>delinq.2yrs</th>\n",
       "      <th>pub.rec</th>\n",
       "      <th>not.fully.paid</th>\n",
       "    </tr>\n",
       "  </thead>\n",
       "  <tbody>\n",
       "    <tr>\n",
       "      <th>0</th>\n",
       "      <td>1</td>\n",
       "      <td>debt_consolidation</td>\n",
       "      <td>0.1189</td>\n",
       "      <td>829.10</td>\n",
       "      <td>11.350407</td>\n",
       "      <td>19.48</td>\n",
       "      <td>737</td>\n",
       "      <td>5639.958333</td>\n",
       "      <td>28854</td>\n",
       "      <td>52.1</td>\n",
       "      <td>0</td>\n",
       "      <td>0</td>\n",
       "      <td>0</td>\n",
       "      <td>0</td>\n",
       "    </tr>\n",
       "    <tr>\n",
       "      <th>1</th>\n",
       "      <td>1</td>\n",
       "      <td>credit_card</td>\n",
       "      <td>0.1071</td>\n",
       "      <td>228.22</td>\n",
       "      <td>11.082143</td>\n",
       "      <td>14.29</td>\n",
       "      <td>707</td>\n",
       "      <td>2760.000000</td>\n",
       "      <td>33623</td>\n",
       "      <td>76.7</td>\n",
       "      <td>0</td>\n",
       "      <td>0</td>\n",
       "      <td>0</td>\n",
       "      <td>0</td>\n",
       "    </tr>\n",
       "    <tr>\n",
       "      <th>2</th>\n",
       "      <td>1</td>\n",
       "      <td>debt_consolidation</td>\n",
       "      <td>0.1357</td>\n",
       "      <td>366.86</td>\n",
       "      <td>10.373491</td>\n",
       "      <td>11.63</td>\n",
       "      <td>682</td>\n",
       "      <td>4710.000000</td>\n",
       "      <td>3511</td>\n",
       "      <td>25.6</td>\n",
       "      <td>1</td>\n",
       "      <td>0</td>\n",
       "      <td>0</td>\n",
       "      <td>0</td>\n",
       "    </tr>\n",
       "    <tr>\n",
       "      <th>3</th>\n",
       "      <td>1</td>\n",
       "      <td>debt_consolidation</td>\n",
       "      <td>0.1008</td>\n",
       "      <td>162.34</td>\n",
       "      <td>11.350407</td>\n",
       "      <td>8.10</td>\n",
       "      <td>712</td>\n",
       "      <td>2699.958333</td>\n",
       "      <td>33667</td>\n",
       "      <td>73.2</td>\n",
       "      <td>1</td>\n",
       "      <td>0</td>\n",
       "      <td>0</td>\n",
       "      <td>0</td>\n",
       "    </tr>\n",
       "    <tr>\n",
       "      <th>4</th>\n",
       "      <td>1</td>\n",
       "      <td>credit_card</td>\n",
       "      <td>0.1426</td>\n",
       "      <td>102.92</td>\n",
       "      <td>11.299732</td>\n",
       "      <td>14.97</td>\n",
       "      <td>667</td>\n",
       "      <td>4066.000000</td>\n",
       "      <td>4740</td>\n",
       "      <td>39.5</td>\n",
       "      <td>0</td>\n",
       "      <td>1</td>\n",
       "      <td>0</td>\n",
       "      <td>0</td>\n",
       "    </tr>\n",
       "  </tbody>\n",
       "</table>\n",
       "</div>"
      ],
      "text/plain": [
       "   credit.policy             purpose  int.rate  installment  log.annual.inc  \\\n",
       "0              1  debt_consolidation    0.1189       829.10       11.350407   \n",
       "1              1         credit_card    0.1071       228.22       11.082143   \n",
       "2              1  debt_consolidation    0.1357       366.86       10.373491   \n",
       "3              1  debt_consolidation    0.1008       162.34       11.350407   \n",
       "4              1         credit_card    0.1426       102.92       11.299732   \n",
       "\n",
       "     dti  fico  days.with.cr.line  revol.bal  revol.util  inq.last.6mths  \\\n",
       "0  19.48   737        5639.958333      28854        52.1               0   \n",
       "1  14.29   707        2760.000000      33623        76.7               0   \n",
       "2  11.63   682        4710.000000       3511        25.6               1   \n",
       "3   8.10   712        2699.958333      33667        73.2               1   \n",
       "4  14.97   667        4066.000000       4740        39.5               0   \n",
       "\n",
       "   delinq.2yrs  pub.rec  not.fully.paid  \n",
       "0            0        0               0  \n",
       "1            0        0               0  \n",
       "2            0        0               0  \n",
       "3            0        0               0  \n",
       "4            1        0               0  "
      ]
     },
     "execution_count": 2,
     "metadata": {},
     "output_type": "execute_result"
    }
   ],
   "source": [
    "#Saving loan_data.csv as a dataframe called loans\n",
    "loans = pd.read_csv('loan_data.csv')\n",
    "loans.head()"
   ]
  },
  {
   "cell_type": "markdown",
   "metadata": {},
   "source": [
    "# EDA"
   ]
  },
  {
   "cell_type": "code",
   "execution_count": 3,
   "metadata": {},
   "outputs": [
    {
     "data": {
      "image/png": "[encoded data removed]",
      "text/plain": [
       "<matplotlib.figure.Figure at 0x2c1684bc6d8>"
      ]
     },
     "metadata": {},
     "output_type": "display_data"
    }
   ],
   "source": [
    "#Creating a barplot of purpose counts, colored by not.fully.paid\n",
    "plt.figure(figsize=(8,4))\n",
    "sns.countplot(x='purpose',hue='not.fully.paid',data=loans)\n",
    "plt.tight_layout()"
   ]
  },
  {
   "cell_type": "code",
   "execution_count": 4,
   "metadata": {},
   "outputs": [
    {
     "data": {
      "text/plain": [
       "<matplotlib.legend.Legend at 0x2c167eec588>"
      ]
     },
     "execution_count": 4,
     "metadata": {},
     "output_type": "execute_result"
    },
    {
     "data": {
      "image/png": "[encoded data removed]",
      "text/plain": [
       "<matplotlib.figure.Figure at 0x2c1684bccc0>"
      ]
     },
     "metadata": {},
     "output_type": "display_data"
    }
   ],
   "source": [
    "#Creating a histogram of fico scores colored by not.fully.paid\n",
    "plt.figure(figsize=(8,4))\n",
    "loans[loans['not.fully.paid']==0]['fico'].plot.hist(bins=40,color=\"steelblue\",edgecolor=\"white\",label=\"0\")\n",
    "loans[loans['not.fully.paid']==1]['fico'].plot.hist(bins=40,color=\"darkorange\",edgecolor=\"white\",label=\"1\")\n",
    "plt.legend()"
   ]
  },
  {
   "cell_type": "code",
   "execution_count": 5,
   "metadata": {},
   "outputs": [
    {
     "data": {
      "text/plain": [
       "<matplotlib.axes._subplots.AxesSubplot at 0x2c1684bc668>"
      ]
     },
     "execution_count": 5,
     "metadata": {},
     "output_type": "execute_result"
    },
    {
     "data": {
      "image/png": "[encoded data removed]",
      "text/plain": [
       "<matplotlib.figure.Figure at 0x2c167ed2e10>"
      ]
     },
     "metadata": {},
     "output_type": "display_data"
    }
   ],
   "source": [
    "#Creating a scatterplot of fico score versus int.rate\n",
    "loans.plot.scatter(x='int.rate',y='fico',color=\"darkred\",s=25,alpha=0.25)"
   ]
  },
  {
   "cell_type": "markdown",
   "metadata": {},
   "source": [
    "# Train and Test Sets"
   ]
  },
  {
   "cell_type": "code",
   "execution_count": 6,
   "metadata": {},
   "outputs": [
    {
     "name": "stdout",
     "output_type": "stream",
     "text": [
      "<class 'pandas.core.frame.DataFrame'>\n",
      "RangeIndex: 9578 entries, 0 to 9577\n",
      "Data columns (total 19 columns):\n",
      "credit.policy                 9578 non-null int64\n",
      "int.rate                      9578 non-null float64\n",
      "installment                   9578 non-null float64\n",
      "log.annual.inc                9578 non-null float64\n",
      "dti                           9578 non-null float64\n",
      "fico                          9578 non-null int64\n",
      "days.with.cr.line             9578 non-null float64\n",
      "revol.bal                     9578 non-null int64\n",
      "revol.util                    9578 non-null float64\n",
      "inq.last.6mths                9578 non-null int64\n",
      "delinq.2yrs                   9578 non-null int64\n",
      "pub.rec                       9578 non-null int64\n",
      "not.fully.paid                9578 non-null int64\n",
      "purpose_credit_card           9578 non-null uint8\n",
      "purpose_debt_consolidation    9578 non-null uint8\n",
      "purpose_educational           9578 non-null uint8\n",
      "purpose_home_improvement      9578 non-null uint8\n",
      "purpose_major_purchase        9578 non-null uint8\n",
      "purpose_small_business        9578 non-null uint8\n",
      "dtypes: float64(6), int64(7), uint8(6)\n",
      "memory usage: 1.0 MB\n"
     ]
    }
   ],
   "source": [
    "#Creating a fixed larger dataframe that has new feature columns with dummy variables \n",
    "cat_feats = ['purpose']\n",
    "final_data = pd.get_dummies(loans,columns=cat_feats,drop_first=True)\n",
    "final_data.info()"
   ]
  },
  {
   "cell_type": "code",
   "execution_count": 7,
   "metadata": {
    "collapsed": true
   },
   "outputs": [],
   "source": [
    "#Split the data into training and test sets\n",
    "x = final_data.drop('not.fully.paid',axis=1)\n",
    "y = final_data['not.fully.paid']\n",
    "x_train, x_test, y_train, y_test = train_test_split(x,y,test_size=0.3, random_state=101)"
   ]
  },
  {
   "cell_type": "markdown",
   "metadata": {},
   "source": [
    "# Building the Model"
   ]
  },
  {
   "cell_type": "code",
   "execution_count": 8,
   "metadata": {},
   "outputs": [
    {
     "data": {
      "text/plain": [
       "SVC(C=1.0, cache_size=200, class_weight=None, coef0=0.0,\n",
       "  decision_function_shape='ovr', degree=3, gamma='auto', kernel='rbf',\n",
       "  max_iter=-1, probability=False, random_state=None, shrinking=True,\n",
       "  tol=0.001, verbose=False)"
      ]
     },
     "execution_count": 8,
     "metadata": {},
     "output_type": "execute_result"
    }
   ],
   "source": [
    "#Using the svc() function to train a model\n",
    "model = SVC()\n",
    "model.fit(x_train,y_train)"
   ]
  },
  {
   "cell_type": "code",
   "execution_count": 9,
   "metadata": {},
   "outputs": [
    {
     "name": "stdout",
     "output_type": "stream",
     "text": [
      "confusion_matrix\n",
      "[[2431    0]\n",
      " [ 443    0]]\n",
      "\n",
      " classification_report\n",
      "             precision    recall  f1-score   support\n",
      "\n",
      "          0       0.85      1.00      0.92      2431\n",
      "          1       0.00      0.00      0.00       443\n",
      "\n",
      "avg / total       0.72      0.85      0.78      2874\n",
      "\n"
     ]
    },
    {
     "name": "stderr",
     "output_type": "stream",
     "text": [
      "C:\\Users\\rohit\\Anaconda3\\lib\\site-packages\\sklearn\\metrics\\classification.py:1135: UndefinedMetricWarning: Precision and F-score are ill-defined and being set to 0.0 in labels with no predicted samples.\n",
      "  'precision', 'predicted', average, warn_for)\n"
     ]
    }
   ],
   "source": [
    "#Model Evaluation\n",
    "predictions = model.predict(x_test)\n",
    "print('confusion_matrix')\n",
    "print(confusion_matrix(y_test,predictions))\n",
    "print('\\n classification_report')\n",
    "print(classification_report(y_test,predictions))"
   ]
  },
  {
   "cell_type": "markdown",
   "metadata": {},
   "source": [
    "# Tuning the Model"
   ]
  },
  {
   "cell_type": "code",
   "execution_count": 10,
   "metadata": {},
   "outputs": [
    {
     "name": "stdout",
     "output_type": "stream",
     "text": [
      "Fitting 3 folds for each of 81 candidates, totalling 243 fits\n",
      "[CV] C=0.0001, gamma=0.0001, kernel=rbf ..............................\n",
      "[CV]  C=0.0001, gamma=0.0001, kernel=rbf, score=0.8372093023255814, total=   0.8s\n",
      "[CV] C=0.0001, gamma=0.0001, kernel=rbf ..............................\n"
     ]
    },
    {
     "name": "stderr",
     "output_type": "stream",
     "text": [
      "[Parallel(n_jobs=1)]: Done   1 out of   1 | elapsed:    1.3s remaining:    0.0s\n"
     ]
    },
    {
     "name": "stdout",
     "output_type": "stream",
     "text": [
      "[CV]  C=0.0001, gamma=0.0001, kernel=rbf, score=0.8375111906893464, total=   0.8s\n",
      "[CV] C=0.0001, gamma=0.0001, kernel=rbf ..............................\n"
     ]
    },
    {
     "name": "stderr",
     "output_type": "stream",
     "text": [
      "[Parallel(n_jobs=1)]: Done   2 out of   2 | elapsed:    2.7s remaining:    0.0s\n"
     ]
    },
    {
     "name": "stdout",
     "output_type": "stream",
     "text": [
      "[CV]  C=0.0001, gamma=0.0001, kernel=rbf, score=0.8375111906893464, total=   0.8s\n",
      "[CV] C=0.0001, gamma=0.001, kernel=rbf ...............................\n"
     ]
    },
    {
     "name": "stderr",
     "output_type": "stream",
     "text": [
      "[Parallel(n_jobs=1)]: Done   3 out of   3 | elapsed:    4.1s remaining:    0.0s\n"
     ]
    },
    {
     "name": "stdout",
     "output_type": "stream",
     "text": [
      "[CV]  C=0.0001, gamma=0.001, kernel=rbf, score=0.8372093023255814, total=   0.8s\n",
      "[CV] C=0.0001, gamma=0.001, kernel=rbf ...............................\n"
     ]
    },
    {
     "name": "stderr",
     "output_type": "stream",
     "text": [
      "[Parallel(n_jobs=1)]: Done   4 out of   4 | elapsed:    5.5s remaining:    0.0s\n"
     ]
    },
    {
     "name": "stdout",
     "output_type": "stream",
     "text": [
      "[CV]  C=0.0001, gamma=0.001, kernel=rbf, score=0.8375111906893464, total=   0.8s\n",
      "[CV] C=0.0001, gamma=0.001, kernel=rbf ...............................\n"
     ]
    },
    {
     "name": "stderr",
     "output_type": "stream",
     "text": [
      "[Parallel(n_jobs=1)]: Done   5 out of   5 | elapsed:    7.1s remaining:    0.0s\n"
     ]
    },
    {
     "name": "stdout",
     "output_type": "stream",
     "text": [
      "[CV]  C=0.0001, gamma=0.001, kernel=rbf, score=0.8375111906893464, total=   1.1s\n",
      "[CV] C=0.0001, gamma=0.01, kernel=rbf ................................\n"
     ]
    },
    {
     "name": "stderr",
     "output_type": "stream",
     "text": [
      "[Parallel(n_jobs=1)]: Done   6 out of   6 | elapsed:    8.9s remaining:    0.0s\n"
     ]
    },
    {
     "name": "stdout",
     "output_type": "stream",
     "text": [
      "[CV]  C=0.0001, gamma=0.01, kernel=rbf, score=0.8372093023255814, total=   0.9s\n",
      "[CV] C=0.0001, gamma=0.01, kernel=rbf ................................\n"
     ]
    },
    {
     "name": "stderr",
     "output_type": "stream",
     "text": [
      "[Parallel(n_jobs=1)]: Done   7 out of   7 | elapsed:   10.4s remaining:    0.0s\n"
     ]
    },
    {
     "name": "stdout",
     "output_type": "stream",
     "text": [
      "[CV]  C=0.0001, gamma=0.01, kernel=rbf, score=0.8375111906893464, total=   0.8s\n",
      "[CV] C=0.0001, gamma=0.01, kernel=rbf ................................\n"
     ]
    },
    {
     "name": "stderr",
     "output_type": "stream",
     "text": [
      "[Parallel(n_jobs=1)]: Done   8 out of   8 | elapsed:   11.9s remaining:    0.0s\n"
     ]
    },
    {
     "name": "stdout",
     "output_type": "stream",
     "text": [
      "[CV]  C=0.0001, gamma=0.01, kernel=rbf, score=0.8375111906893464, total=   0.8s\n",
      "[CV] C=0.0001, gamma=0.1, kernel=rbf .................................\n"
     ]
    },
    {
     "name": "stderr",
     "output_type": "stream",
     "text": [
      "[Parallel(n_jobs=1)]: Done   9 out of   9 | elapsed:   13.3s remaining:    0.0s\n"
     ]
    },
    {
     "name": "stdout",
     "output_type": "stream",
     "text": [
      "[CV]  C=0.0001, gamma=0.1, kernel=rbf, score=0.8372093023255814, total=   0.8s\n",
      "[CV] C=0.0001, gamma=0.1, kernel=rbf .................................\n",
      "[CV]  C=0.0001, gamma=0.1, kernel=rbf, score=0.8375111906893464, total=   0.8s\n",
      "[CV] C=0.0001, gamma=0.1, kernel=rbf .................................\n",
      "[CV]  C=0.0001, gamma=0.1, kernel=rbf, score=0.8375111906893464, total=   0.8s\n",
      "[CV] C=0.0001, gamma=1, kernel=rbf ...................................\n",
      "[CV]  C=0.0001, gamma=1, kernel=rbf, score=0.8372093023255814, total=   0.8s\n",
      "[CV] C=0.0001, gamma=1, kernel=rbf ...................................\n",
      "[CV]  C=0.0001, gamma=1, kernel=rbf, score=0.8375111906893464, total=   0.8s\n",
      "[CV] C=0.0001, gamma=1, kernel=rbf ...................................\n",
      "[CV]  C=0.0001, gamma=1, kernel=rbf, score=0.8375111906893464, total=   0.8s\n",
      "[CV] C=0.0001, gamma=10, kernel=rbf ..................................\n",
      "[CV]  C=0.0001, gamma=10, kernel=rbf, score=0.8372093023255814, total=   0.8s\n",
      "[CV] C=0.0001, gamma=10, kernel=rbf ..................................\n",
      "[CV]  C=0.0001, gamma=10, kernel=rbf, score=0.8375111906893464, total=   0.8s\n",
      "[CV] C=0.0001, gamma=10, kernel=rbf ..................................\n",
      "[CV]  C=0.0001, gamma=10, kernel=rbf, score=0.8375111906893464, total=   0.8s\n",
      "[CV] C=0.0001, gamma=100, kernel=rbf .................................\n",
      "[CV]  C=0.0001, gamma=100, kernel=rbf, score=0.8372093023255814, total=   0.8s\n",
      "[CV] C=0.0001, gamma=100, kernel=rbf .................................\n",
      "[CV]  C=0.0001, gamma=100, kernel=rbf, score=0.8375111906893464, total=   1.0s\n",
      "[CV] C=0.0001, gamma=100, kernel=rbf .................................\n",
      "[CV]  C=0.0001, gamma=100, kernel=rbf, score=0.8375111906893464, total=   0.8s\n",
      "[CV] C=0.0001, gamma=1000, kernel=rbf ................................\n",
      "[CV]  C=0.0001, gamma=1000, kernel=rbf, score=0.8372093023255814, total=   0.8s\n",
      "[CV] C=0.0001, gamma=1000, kernel=rbf ................................\n",
      "[CV]  C=0.0001, gamma=1000, kernel=rbf, score=0.8375111906893464, total=   0.8s\n",
      "[CV] C=0.0001, gamma=1000, kernel=rbf ................................\n",
      "[CV]  C=0.0001, gamma=1000, kernel=rbf, score=0.8375111906893464, total=   1.0s\n",
      "[CV] C=0.0001, gamma=10000, kernel=rbf ...............................\n",
      "[CV]  C=0.0001, gamma=10000, kernel=rbf, score=0.8372093023255814, total=   0.9s\n",
      "[CV] C=0.0001, gamma=10000, kernel=rbf ...............................\n",
      "[CV]  C=0.0001, gamma=10000, kernel=rbf, score=0.8375111906893464, total=   0.8s\n",
      "[CV] C=0.0001, gamma=10000, kernel=rbf ...............................\n",
      "[CV]  C=0.0001, gamma=10000, kernel=rbf, score=0.8375111906893464, total=   0.9s\n",
      "[CV] C=0.001, gamma=0.0001, kernel=rbf ...............................\n",
      "[CV]  C=0.001, gamma=0.0001, kernel=rbf, score=0.8372093023255814, total=   0.8s\n",
      "[CV] C=0.001, gamma=0.0001, kernel=rbf ...............................\n",
      "[CV]  C=0.001, gamma=0.0001, kernel=rbf, score=0.8375111906893464, total=   1.0s\n",
      "[CV] C=0.001, gamma=0.0001, kernel=rbf ...............................\n",
      "[CV]  C=0.001, gamma=0.0001, kernel=rbf, score=0.8375111906893464, total=   1.0s\n",
      "[CV] C=0.001, gamma=0.001, kernel=rbf ................................\n",
      "[CV]  C=0.001, gamma=0.001, kernel=rbf, score=0.8372093023255814, total=   1.3s\n",
      "[CV] C=0.001, gamma=0.001, kernel=rbf ................................\n",
      "[CV]  C=0.001, gamma=0.001, kernel=rbf, score=0.8375111906893464, total=   1.0s\n",
      "[CV] C=0.001, gamma=0.001, kernel=rbf ................................\n",
      "[CV]  C=0.001, gamma=0.001, kernel=rbf, score=0.8375111906893464, total=   1.0s\n",
      "[CV] C=0.001, gamma=0.01, kernel=rbf .................................\n",
      "[CV]  C=0.001, gamma=0.01, kernel=rbf, score=0.8372093023255814, total=   1.4s\n",
      "[CV] C=0.001, gamma=0.01, kernel=rbf .................................\n",
      "[CV]  C=0.001, gamma=0.01, kernel=rbf, score=0.8375111906893464, total=   1.4s\n",
      "[CV] C=0.001, gamma=0.01, kernel=rbf .................................\n",
      "[CV]  C=0.001, gamma=0.01, kernel=rbf, score=0.8375111906893464, total=   1.6s\n",
      "[CV] C=0.001, gamma=0.1, kernel=rbf ..................................\n",
      "[CV]  C=0.001, gamma=0.1, kernel=rbf, score=0.8372093023255814, total=   1.5s\n",
      "[CV] C=0.001, gamma=0.1, kernel=rbf ..................................\n",
      "[CV]  C=0.001, gamma=0.1, kernel=rbf, score=0.8375111906893464, total=   1.3s\n",
      "[CV] C=0.001, gamma=0.1, kernel=rbf ..................................\n",
      "[CV]  C=0.001, gamma=0.1, kernel=rbf, score=0.8375111906893464, total=   1.4s\n",
      "[CV] C=0.001, gamma=1, kernel=rbf ....................................\n",
      "[CV]  C=0.001, gamma=1, kernel=rbf, score=0.8372093023255814, total=   1.3s\n",
      "[CV] C=0.001, gamma=1, kernel=rbf ....................................\n",
      "[CV]  C=0.001, gamma=1, kernel=rbf, score=0.8375111906893464, total=   1.2s\n",
      "[CV] C=0.001, gamma=1, kernel=rbf ....................................\n",
      "[CV]  C=0.001, gamma=1, kernel=rbf, score=0.8375111906893464, total=   1.2s\n",
      "[CV] C=0.001, gamma=10, kernel=rbf ...................................\n",
      "[CV]  C=0.001, gamma=10, kernel=rbf, score=0.8372093023255814, total=   1.3s\n",
      "[CV] C=0.001, gamma=10, kernel=rbf ...................................\n",
      "[CV]  C=0.001, gamma=10, kernel=rbf, score=0.8375111906893464, total=   1.4s\n",
      "[CV] C=0.001, gamma=10, kernel=rbf ...................................\n",
      "[CV]  C=0.001, gamma=10, kernel=rbf, score=0.8375111906893464, total=   1.3s\n",
      "[CV] C=0.001, gamma=100, kernel=rbf ..................................\n",
      "[CV]  C=0.001, gamma=100, kernel=rbf, score=0.8372093023255814, total=   1.3s\n",
      "[CV] C=0.001, gamma=100, kernel=rbf ..................................\n",
      "[CV]  C=0.001, gamma=100, kernel=rbf, score=0.8375111906893464, total=   1.5s\n",
      "[CV] C=0.001, gamma=100, kernel=rbf ..................................\n",
      "[CV]  C=0.001, gamma=100, kernel=rbf, score=0.8375111906893464, total=   1.6s\n",
      "[CV] C=0.001, gamma=1000, kernel=rbf .................................\n",
      "[CV]  C=0.001, gamma=1000, kernel=rbf, score=0.8372093023255814, total=   1.8s\n",
      "[CV] C=0.001, gamma=1000, kernel=rbf .................................\n",
      "[CV]  C=0.001, gamma=1000, kernel=rbf, score=0.8375111906893464, total=   1.3s\n",
      "[CV] C=0.001, gamma=1000, kernel=rbf .................................\n",
      "[CV]  C=0.001, gamma=1000, kernel=rbf, score=0.8375111906893464, total=   1.3s\n",
      "[CV] C=0.001, gamma=10000, kernel=rbf ................................\n",
      "[CV]  C=0.001, gamma=10000, kernel=rbf, score=0.8372093023255814, total=   1.3s\n",
      "[CV] C=0.001, gamma=10000, kernel=rbf ................................\n",
      "[CV]  C=0.001, gamma=10000, kernel=rbf, score=0.8375111906893464, total=   1.2s\n",
      "[CV] C=0.001, gamma=10000, kernel=rbf ................................\n",
      "[CV]  C=0.001, gamma=10000, kernel=rbf, score=0.8375111906893464, total=   1.2s\n",
      "[CV] C=0.01, gamma=0.0001, kernel=rbf ................................\n",
      "[CV]  C=0.01, gamma=0.0001, kernel=rbf, score=0.8372093023255814, total=   2.3s\n",
      "[CV] C=0.01, gamma=0.0001, kernel=rbf ................................\n",
      "[CV]  C=0.01, gamma=0.0001, kernel=rbf, score=0.8375111906893464, total=   2.4s\n",
      "[CV] C=0.01, gamma=0.0001, kernel=rbf ................................\n",
      "[CV]  C=0.01, gamma=0.0001, kernel=rbf, score=0.8375111906893464, total=   2.4s\n",
      "[CV] C=0.01, gamma=0.001, kernel=rbf .................................\n",
      "[CV]  C=0.01, gamma=0.001, kernel=rbf, score=0.8372093023255814, total=   2.4s\n",
      "[CV] C=0.01, gamma=0.001, kernel=rbf .................................\n",
      "[CV]  C=0.01, gamma=0.001, kernel=rbf, score=0.8375111906893464, total=   2.5s\n",
      "[CV] C=0.01, gamma=0.001, kernel=rbf .................................\n",
      "[CV]  C=0.01, gamma=0.001, kernel=rbf, score=0.8375111906893464, total=   2.5s\n",
      "[CV] C=0.01, gamma=0.01, kernel=rbf ..................................\n",
      "[CV]  C=0.01, gamma=0.01, kernel=rbf, score=0.8372093023255814, total=   2.4s\n",
      "[CV] C=0.01, gamma=0.01, kernel=rbf ..................................\n",
      "[CV]  C=0.01, gamma=0.01, kernel=rbf, score=0.8375111906893464, total=   2.4s\n",
      "[CV] C=0.01, gamma=0.01, kernel=rbf ..................................\n",
      "[CV]  C=0.01, gamma=0.01, kernel=rbf, score=0.8375111906893464, total=   2.4s\n",
      "[CV] C=0.01, gamma=0.1, kernel=rbf ...................................\n",
      "[CV]  C=0.01, gamma=0.1, kernel=rbf, score=0.8372093023255814, total=   2.4s\n",
      "[CV] C=0.01, gamma=0.1, kernel=rbf ...................................\n"
     ]
    },
    {
     "name": "stdout",
     "output_type": "stream",
     "text": [
      "[CV]  C=0.01, gamma=0.1, kernel=rbf, score=0.8375111906893464, total=   2.4s\n",
      "[CV] C=0.01, gamma=0.1, kernel=rbf ...................................\n",
      "[CV]  C=0.01, gamma=0.1, kernel=rbf, score=0.8375111906893464, total=   2.4s\n",
      "[CV] C=0.01, gamma=1, kernel=rbf .....................................\n",
      "[CV]  C=0.01, gamma=1, kernel=rbf, score=0.8372093023255814, total=   2.4s\n",
      "[CV] C=0.01, gamma=1, kernel=rbf .....................................\n",
      "[CV]  C=0.01, gamma=1, kernel=rbf, score=0.8375111906893464, total=   2.4s\n",
      "[CV] C=0.01, gamma=1, kernel=rbf .....................................\n",
      "[CV]  C=0.01, gamma=1, kernel=rbf, score=0.8375111906893464, total=   2.4s\n",
      "[CV] C=0.01, gamma=10, kernel=rbf ....................................\n",
      "[CV]  C=0.01, gamma=10, kernel=rbf, score=0.8372093023255814, total=   2.5s\n",
      "[CV] C=0.01, gamma=10, kernel=rbf ....................................\n",
      "[CV]  C=0.01, gamma=10, kernel=rbf, score=0.8375111906893464, total=   2.4s\n",
      "[CV] C=0.01, gamma=10, kernel=rbf ....................................\n",
      "[CV]  C=0.01, gamma=10, kernel=rbf, score=0.8375111906893464, total=   2.4s\n",
      "[CV] C=0.01, gamma=100, kernel=rbf ...................................\n",
      "[CV]  C=0.01, gamma=100, kernel=rbf, score=0.8372093023255814, total=   2.4s\n",
      "[CV] C=0.01, gamma=100, kernel=rbf ...................................\n",
      "[CV]  C=0.01, gamma=100, kernel=rbf, score=0.8375111906893464, total=   2.4s\n",
      "[CV] C=0.01, gamma=100, kernel=rbf ...................................\n",
      "[CV]  C=0.01, gamma=100, kernel=rbf, score=0.8375111906893464, total=   2.4s\n",
      "[CV] C=0.01, gamma=1000, kernel=rbf ..................................\n",
      "[CV]  C=0.01, gamma=1000, kernel=rbf, score=0.8372093023255814, total=   2.4s\n",
      "[CV] C=0.01, gamma=1000, kernel=rbf ..................................\n",
      "[CV]  C=0.01, gamma=1000, kernel=rbf, score=0.8375111906893464, total=   2.4s\n",
      "[CV] C=0.01, gamma=1000, kernel=rbf ..................................\n",
      "[CV]  C=0.01, gamma=1000, kernel=rbf, score=0.8375111906893464, total=   2.4s\n",
      "[CV] C=0.01, gamma=10000, kernel=rbf .................................\n",
      "[CV]  C=0.01, gamma=10000, kernel=rbf, score=0.8372093023255814, total=   2.4s\n",
      "[CV] C=0.01, gamma=10000, kernel=rbf .................................\n",
      "[CV]  C=0.01, gamma=10000, kernel=rbf, score=0.8375111906893464, total=   2.4s\n",
      "[CV] C=0.01, gamma=10000, kernel=rbf .................................\n",
      "[CV]  C=0.01, gamma=10000, kernel=rbf, score=0.8375111906893464, total=   2.4s\n",
      "[CV] C=0.1, gamma=0.0001, kernel=rbf .................................\n",
      "[CV]  C=0.1, gamma=0.0001, kernel=rbf, score=0.8372093023255814, total=   2.4s\n",
      "[CV] C=0.1, gamma=0.0001, kernel=rbf .................................\n",
      "[CV]  C=0.1, gamma=0.0001, kernel=rbf, score=0.8375111906893464, total=   2.4s\n",
      "[CV] C=0.1, gamma=0.0001, kernel=rbf .................................\n",
      "[CV]  C=0.1, gamma=0.0001, kernel=rbf, score=0.8375111906893464, total=   2.5s\n",
      "[CV] C=0.1, gamma=0.001, kernel=rbf ..................................\n",
      "[CV]  C=0.1, gamma=0.001, kernel=rbf, score=0.8372093023255814, total=   2.5s\n",
      "[CV] C=0.1, gamma=0.001, kernel=rbf ..................................\n",
      "[CV]  C=0.1, gamma=0.001, kernel=rbf, score=0.8375111906893464, total=   2.5s\n",
      "[CV] C=0.1, gamma=0.001, kernel=rbf ..................................\n",
      "[CV]  C=0.1, gamma=0.001, kernel=rbf, score=0.8375111906893464, total=   2.5s\n",
      "[CV] C=0.1, gamma=0.01, kernel=rbf ...................................\n",
      "[CV]  C=0.1, gamma=0.01, kernel=rbf, score=0.8372093023255814, total=   2.5s\n",
      "[CV] C=0.1, gamma=0.01, kernel=rbf ...................................\n",
      "[CV]  C=0.1, gamma=0.01, kernel=rbf, score=0.8375111906893464, total=   2.5s\n",
      "[CV] C=0.1, gamma=0.01, kernel=rbf ...................................\n",
      "[CV]  C=0.1, gamma=0.01, kernel=rbf, score=0.8375111906893464, total=   2.5s\n",
      "[CV] C=0.1, gamma=0.1, kernel=rbf ....................................\n",
      "[CV]  C=0.1, gamma=0.1, kernel=rbf, score=0.8372093023255814, total=   2.5s\n",
      "[CV] C=0.1, gamma=0.1, kernel=rbf ....................................\n",
      "[CV]  C=0.1, gamma=0.1, kernel=rbf, score=0.8375111906893464, total=   2.5s\n",
      "[CV] C=0.1, gamma=0.1, kernel=rbf ....................................\n",
      "[CV]  C=0.1, gamma=0.1, kernel=rbf, score=0.8375111906893464, total=   2.5s\n",
      "[CV] C=0.1, gamma=1, kernel=rbf ......................................\n",
      "[CV]  C=0.1, gamma=1, kernel=rbf, score=0.8372093023255814, total=   2.5s\n",
      "[CV] C=0.1, gamma=1, kernel=rbf ......................................\n",
      "[CV]  C=0.1, gamma=1, kernel=rbf, score=0.8375111906893464, total=   2.5s\n",
      "[CV] C=0.1, gamma=1, kernel=rbf ......................................\n",
      "[CV]  C=0.1, gamma=1, kernel=rbf, score=0.8375111906893464, total=   2.5s\n",
      "[CV] C=0.1, gamma=10, kernel=rbf .....................................\n",
      "[CV]  C=0.1, gamma=10, kernel=rbf, score=0.8372093023255814, total=   2.5s\n",
      "[CV] C=0.1, gamma=10, kernel=rbf .....................................\n",
      "[CV]  C=0.1, gamma=10, kernel=rbf, score=0.8375111906893464, total=   2.5s\n",
      "[CV] C=0.1, gamma=10, kernel=rbf .....................................\n",
      "[CV]  C=0.1, gamma=10, kernel=rbf, score=0.8375111906893464, total=   2.5s\n",
      "[CV] C=0.1, gamma=100, kernel=rbf ....................................\n",
      "[CV]  C=0.1, gamma=100, kernel=rbf, score=0.8372093023255814, total=   2.5s\n",
      "[CV] C=0.1, gamma=100, kernel=rbf ....................................\n",
      "[CV]  C=0.1, gamma=100, kernel=rbf, score=0.8375111906893464, total=   2.5s\n",
      "[CV] C=0.1, gamma=100, kernel=rbf ....................................\n",
      "[CV]  C=0.1, gamma=100, kernel=rbf, score=0.8375111906893464, total=   2.5s\n",
      "[CV] C=0.1, gamma=1000, kernel=rbf ...................................\n",
      "[CV]  C=0.1, gamma=1000, kernel=rbf, score=0.8372093023255814, total=   2.5s\n",
      "[CV] C=0.1, gamma=1000, kernel=rbf ...................................\n",
      "[CV]  C=0.1, gamma=1000, kernel=rbf, score=0.8375111906893464, total=   2.5s\n",
      "[CV] C=0.1, gamma=1000, kernel=rbf ...................................\n",
      "[CV]  C=0.1, gamma=1000, kernel=rbf, score=0.8375111906893464, total=   2.5s\n",
      "[CV] C=0.1, gamma=10000, kernel=rbf ..................................\n",
      "[CV]  C=0.1, gamma=10000, kernel=rbf, score=0.8372093023255814, total=   2.5s\n",
      "[CV] C=0.1, gamma=10000, kernel=rbf ..................................\n",
      "[CV]  C=0.1, gamma=10000, kernel=rbf, score=0.8375111906893464, total=   2.5s\n",
      "[CV] C=0.1, gamma=10000, kernel=rbf ..................................\n",
      "[CV]  C=0.1, gamma=10000, kernel=rbf, score=0.8375111906893464, total=   2.5s\n",
      "[CV] C=1, gamma=0.0001, kernel=rbf ...................................\n",
      "[CV]  C=1, gamma=0.0001, kernel=rbf, score=0.8358676207513417, total=   2.5s\n",
      "[CV] C=1, gamma=0.0001, kernel=rbf ...................................\n",
      "[CV]  C=1, gamma=0.0001, kernel=rbf, score=0.8370635631154879, total=   2.5s\n",
      "[CV] C=1, gamma=0.0001, kernel=rbf ...................................\n",
      "[CV]  C=1, gamma=0.0001, kernel=rbf, score=0.8361683079677709, total=   2.6s\n",
      "[CV] C=1, gamma=0.001, kernel=rbf ....................................\n",
      "[CV]  C=1, gamma=0.001, kernel=rbf, score=0.8372093023255814, total=   2.6s\n",
      "[CV] C=1, gamma=0.001, kernel=rbf ....................................\n",
      "[CV]  C=1, gamma=0.001, kernel=rbf, score=0.8375111906893464, total=   2.8s\n",
      "[CV] C=1, gamma=0.001, kernel=rbf ....................................\n",
      "[CV]  C=1, gamma=0.001, kernel=rbf, score=0.8375111906893464, total=   3.0s\n",
      "[CV] C=1, gamma=0.01, kernel=rbf .....................................\n",
      "[CV]  C=1, gamma=0.01, kernel=rbf, score=0.8372093023255814, total=   3.0s\n",
      "[CV] C=1, gamma=0.01, kernel=rbf .....................................\n",
      "[CV]  C=1, gamma=0.01, kernel=rbf, score=0.8375111906893464, total=   3.1s\n",
      "[CV] C=1, gamma=0.01, kernel=rbf .....................................\n",
      "[CV]  C=1, gamma=0.01, kernel=rbf, score=0.8375111906893464, total=   2.8s\n",
      "[CV] C=1, gamma=0.1, kernel=rbf ......................................\n",
      "[CV]  C=1, gamma=0.1, kernel=rbf, score=0.8372093023255814, total=   3.4s\n",
      "[CV] C=1, gamma=0.1, kernel=rbf ......................................\n",
      "[CV]  C=1, gamma=0.1, kernel=rbf, score=0.8375111906893464, total=   3.1s\n",
      "[CV] C=1, gamma=0.1, kernel=rbf ......................................\n",
      "[CV]  C=1, gamma=0.1, kernel=rbf, score=0.8375111906893464, total=   2.9s\n",
      "[CV] C=1, gamma=1, kernel=rbf ........................................\n"
     ]
    },
    {
     "name": "stdout",
     "output_type": "stream",
     "text": [
      "[CV]  C=1, gamma=1, kernel=rbf, score=0.8372093023255814, total=   2.7s\n",
      "[CV] C=1, gamma=1, kernel=rbf ........................................\n",
      "[CV]  C=1, gamma=1, kernel=rbf, score=0.8375111906893464, total=   3.2s\n",
      "[CV] C=1, gamma=1, kernel=rbf ........................................\n",
      "[CV]  C=1, gamma=1, kernel=rbf, score=0.8375111906893464, total=   3.5s\n",
      "[CV] C=1, gamma=10, kernel=rbf .......................................\n",
      "[CV]  C=1, gamma=10, kernel=rbf, score=0.8372093023255814, total=   3.0s\n",
      "[CV] C=1, gamma=10, kernel=rbf .......................................\n",
      "[CV]  C=1, gamma=10, kernel=rbf, score=0.8375111906893464, total=   2.7s\n",
      "[CV] C=1, gamma=10, kernel=rbf .......................................\n",
      "[CV]  C=1, gamma=10, kernel=rbf, score=0.8375111906893464, total=   3.0s\n",
      "[CV] C=1, gamma=100, kernel=rbf ......................................\n",
      "[CV]  C=1, gamma=100, kernel=rbf, score=0.8372093023255814, total=   2.7s\n",
      "[CV] C=1, gamma=100, kernel=rbf ......................................\n",
      "[CV]  C=1, gamma=100, kernel=rbf, score=0.8375111906893464, total=   2.6s\n",
      "[CV] C=1, gamma=100, kernel=rbf ......................................\n",
      "[CV]  C=1, gamma=100, kernel=rbf, score=0.8375111906893464, total=   2.6s\n",
      "[CV] C=1, gamma=1000, kernel=rbf .....................................\n",
      "[CV]  C=1, gamma=1000, kernel=rbf, score=0.8372093023255814, total=   2.6s\n",
      "[CV] C=1, gamma=1000, kernel=rbf .....................................\n",
      "[CV]  C=1, gamma=1000, kernel=rbf, score=0.8375111906893464, total=   2.6s\n",
      "[CV] C=1, gamma=1000, kernel=rbf .....................................\n",
      "[CV]  C=1, gamma=1000, kernel=rbf, score=0.8375111906893464, total=   2.6s\n",
      "[CV] C=1, gamma=10000, kernel=rbf ....................................\n",
      "[CV]  C=1, gamma=10000, kernel=rbf, score=0.8372093023255814, total=   2.6s\n",
      "[CV] C=1, gamma=10000, kernel=rbf ....................................\n",
      "[CV]  C=1, gamma=10000, kernel=rbf, score=0.8375111906893464, total=   2.7s\n",
      "[CV] C=1, gamma=10000, kernel=rbf ....................................\n",
      "[CV]  C=1, gamma=10000, kernel=rbf, score=0.8375111906893464, total=   2.6s\n",
      "[CV] C=10, gamma=0.0001, kernel=rbf ..................................\n",
      "[CV]  C=10, gamma=0.0001, kernel=rbf, score=0.8278175313059034, total=   2.7s\n",
      "[CV] C=10, gamma=0.0001, kernel=rbf ..................................\n",
      "[CV]  C=10, gamma=0.0001, kernel=rbf, score=0.8281110116383169, total=   2.7s\n",
      "[CV] C=10, gamma=0.0001, kernel=rbf ..................................\n",
      "[CV]  C=10, gamma=0.0001, kernel=rbf, score=0.8245299910474485, total=   2.8s\n",
      "[CV] C=10, gamma=0.001, kernel=rbf ...................................\n",
      "[CV]  C=10, gamma=0.001, kernel=rbf, score=0.8372093023255814, total=   2.9s\n",
      "[CV] C=10, gamma=0.001, kernel=rbf ...................................\n",
      "[CV]  C=10, gamma=0.001, kernel=rbf, score=0.8375111906893464, total=   2.9s\n",
      "[CV] C=10, gamma=0.001, kernel=rbf ...................................\n",
      "[CV]  C=10, gamma=0.001, kernel=rbf, score=0.8375111906893464, total=   2.9s\n",
      "[CV] C=10, gamma=0.01, kernel=rbf ....................................\n",
      "[CV]  C=10, gamma=0.01, kernel=rbf, score=0.8372093023255814, total=   2.9s\n",
      "[CV] C=10, gamma=0.01, kernel=rbf ....................................\n",
      "[CV]  C=10, gamma=0.01, kernel=rbf, score=0.8375111906893464, total=   2.9s\n",
      "[CV] C=10, gamma=0.01, kernel=rbf ....................................\n",
      "[CV]  C=10, gamma=0.01, kernel=rbf, score=0.8375111906893464, total=   2.9s\n",
      "[CV] C=10, gamma=0.1, kernel=rbf .....................................\n",
      "[CV]  C=10, gamma=0.1, kernel=rbf, score=0.8372093023255814, total=   2.9s\n",
      "[CV] C=10, gamma=0.1, kernel=rbf .....................................\n",
      "[CV]  C=10, gamma=0.1, kernel=rbf, score=0.8375111906893464, total=   2.9s\n",
      "[CV] C=10, gamma=0.1, kernel=rbf .....................................\n",
      "[CV]  C=10, gamma=0.1, kernel=rbf, score=0.8375111906893464, total=   2.9s\n",
      "[CV] C=10, gamma=1, kernel=rbf .......................................\n",
      "[CV]  C=10, gamma=1, kernel=rbf, score=0.8372093023255814, total=   2.9s\n",
      "[CV] C=10, gamma=1, kernel=rbf .......................................\n",
      "[CV]  C=10, gamma=1, kernel=rbf, score=0.8375111906893464, total=   2.9s\n",
      "[CV] C=10, gamma=1, kernel=rbf .......................................\n",
      "[CV]  C=10, gamma=1, kernel=rbf, score=0.8375111906893464, total=   3.1s\n",
      "[CV] C=10, gamma=10, kernel=rbf ......................................\n",
      "[CV]  C=10, gamma=10, kernel=rbf, score=0.8372093023255814, total=   2.9s\n",
      "[CV] C=10, gamma=10, kernel=rbf ......................................\n",
      "[CV]  C=10, gamma=10, kernel=rbf, score=0.8375111906893464, total=   2.9s\n",
      "[CV] C=10, gamma=10, kernel=rbf ......................................\n",
      "[CV]  C=10, gamma=10, kernel=rbf, score=0.8375111906893464, total=   2.9s\n",
      "[CV] C=10, gamma=100, kernel=rbf .....................................\n",
      "[CV]  C=10, gamma=100, kernel=rbf, score=0.8372093023255814, total=   2.9s\n",
      "[CV] C=10, gamma=100, kernel=rbf .....................................\n",
      "[CV]  C=10, gamma=100, kernel=rbf, score=0.8375111906893464, total=   2.9s\n",
      "[CV] C=10, gamma=100, kernel=rbf .....................................\n",
      "[CV]  C=10, gamma=100, kernel=rbf, score=0.8375111906893464, total=   2.9s\n",
      "[CV] C=10, gamma=1000, kernel=rbf ....................................\n",
      "[CV]  C=10, gamma=1000, kernel=rbf, score=0.8372093023255814, total=   2.8s\n",
      "[CV] C=10, gamma=1000, kernel=rbf ....................................\n",
      "[CV]  C=10, gamma=1000, kernel=rbf, score=0.8375111906893464, total=   2.9s\n",
      "[CV] C=10, gamma=1000, kernel=rbf ....................................\n",
      "[CV]  C=10, gamma=1000, kernel=rbf, score=0.8375111906893464, total=   2.9s\n",
      "[CV] C=10, gamma=10000, kernel=rbf ...................................\n",
      "[CV]  C=10, gamma=10000, kernel=rbf, score=0.8372093023255814, total=   2.9s\n",
      "[CV] C=10, gamma=10000, kernel=rbf ...................................\n",
      "[CV]  C=10, gamma=10000, kernel=rbf, score=0.8375111906893464, total=   2.9s\n",
      "[CV] C=10, gamma=10000, kernel=rbf ...................................\n",
      "[CV]  C=10, gamma=10000, kernel=rbf, score=0.8375111906893464, total=   2.9s\n",
      "[CV] C=100, gamma=0.0001, kernel=rbf .................................\n",
      "[CV]  C=100, gamma=0.0001, kernel=rbf, score=0.8278175313059034, total=   2.7s\n",
      "[CV] C=100, gamma=0.0001, kernel=rbf .................................\n",
      "[CV]  C=100, gamma=0.0001, kernel=rbf, score=0.8281110116383169, total=   2.7s\n",
      "[CV] C=100, gamma=0.0001, kernel=rbf .................................\n",
      "[CV]  C=100, gamma=0.0001, kernel=rbf, score=0.8245299910474485, total=   3.1s\n",
      "[CV] C=100, gamma=0.001, kernel=rbf ..................................\n",
      "[CV]  C=100, gamma=0.001, kernel=rbf, score=0.8372093023255814, total=   3.4s\n",
      "[CV] C=100, gamma=0.001, kernel=rbf ..................................\n",
      "[CV]  C=100, gamma=0.001, kernel=rbf, score=0.8375111906893464, total=   3.3s\n",
      "[CV] C=100, gamma=0.001, kernel=rbf ..................................\n",
      "[CV]  C=100, gamma=0.001, kernel=rbf, score=0.8375111906893464, total=   3.4s\n",
      "[CV] C=100, gamma=0.01, kernel=rbf ...................................\n",
      "[CV]  C=100, gamma=0.01, kernel=rbf, score=0.8372093023255814, total=   3.5s\n",
      "[CV] C=100, gamma=0.01, kernel=rbf ...................................\n",
      "[CV]  C=100, gamma=0.01, kernel=rbf, score=0.8375111906893464, total=   2.9s\n",
      "[CV] C=100, gamma=0.01, kernel=rbf ...................................\n",
      "[CV]  C=100, gamma=0.01, kernel=rbf, score=0.8375111906893464, total=   2.9s\n",
      "[CV] C=100, gamma=0.1, kernel=rbf ....................................\n",
      "[CV]  C=100, gamma=0.1, kernel=rbf, score=0.8372093023255814, total=   2.9s\n",
      "[CV] C=100, gamma=0.1, kernel=rbf ....................................\n",
      "[CV]  C=100, gamma=0.1, kernel=rbf, score=0.8375111906893464, total=   2.9s\n",
      "[CV] C=100, gamma=0.1, kernel=rbf ....................................\n",
      "[CV]  C=100, gamma=0.1, kernel=rbf, score=0.8375111906893464, total=   2.9s\n",
      "[CV] C=100, gamma=1, kernel=rbf ......................................\n",
      "[CV]  C=100, gamma=1, kernel=rbf, score=0.8372093023255814, total=   2.9s\n",
      "[CV] C=100, gamma=1, kernel=rbf ......................................\n",
      "[CV]  C=100, gamma=1, kernel=rbf, score=0.8375111906893464, total=   2.9s\n",
      "[CV] C=100, gamma=1, kernel=rbf ......................................\n"
     ]
    },
    {
     "name": "stdout",
     "output_type": "stream",
     "text": [
      "[CV]  C=100, gamma=1, kernel=rbf, score=0.8375111906893464, total=   2.9s\n",
      "[CV] C=100, gamma=10, kernel=rbf .....................................\n",
      "[CV]  C=100, gamma=10, kernel=rbf, score=0.8372093023255814, total=   3.3s\n",
      "[CV] C=100, gamma=10, kernel=rbf .....................................\n",
      "[CV]  C=100, gamma=10, kernel=rbf, score=0.8375111906893464, total=   3.8s\n",
      "[CV] C=100, gamma=10, kernel=rbf .....................................\n",
      "[CV]  C=100, gamma=10, kernel=rbf, score=0.8375111906893464, total=   3.3s\n",
      "[CV] C=100, gamma=100, kernel=rbf ....................................\n",
      "[CV]  C=100, gamma=100, kernel=rbf, score=0.8372093023255814, total=   3.8s\n",
      "[CV] C=100, gamma=100, kernel=rbf ....................................\n",
      "[CV]  C=100, gamma=100, kernel=rbf, score=0.8375111906893464, total=   3.6s\n",
      "[CV] C=100, gamma=100, kernel=rbf ....................................\n",
      "[CV]  C=100, gamma=100, kernel=rbf, score=0.8375111906893464, total=   2.9s\n",
      "[CV] C=100, gamma=1000, kernel=rbf ...................................\n",
      "[CV]  C=100, gamma=1000, kernel=rbf, score=0.8372093023255814, total=   2.9s\n",
      "[CV] C=100, gamma=1000, kernel=rbf ...................................\n",
      "[CV]  C=100, gamma=1000, kernel=rbf, score=0.8375111906893464, total=   2.9s\n",
      "[CV] C=100, gamma=1000, kernel=rbf ...................................\n",
      "[CV]  C=100, gamma=1000, kernel=rbf, score=0.8375111906893464, total=   3.0s\n",
      "[CV] C=100, gamma=10000, kernel=rbf ..................................\n",
      "[CV]  C=100, gamma=10000, kernel=rbf, score=0.8372093023255814, total=   2.8s\n",
      "[CV] C=100, gamma=10000, kernel=rbf ..................................\n",
      "[CV]  C=100, gamma=10000, kernel=rbf, score=0.8375111906893464, total=   2.9s\n",
      "[CV] C=100, gamma=10000, kernel=rbf ..................................\n",
      "[CV]  C=100, gamma=10000, kernel=rbf, score=0.8375111906893464, total=   2.9s\n",
      "[CV] C=1000, gamma=0.0001, kernel=rbf ................................\n",
      "[CV]  C=1000, gamma=0.0001, kernel=rbf, score=0.8278175313059034, total=   2.7s\n",
      "[CV] C=1000, gamma=0.0001, kernel=rbf ................................\n",
      "[CV]  C=1000, gamma=0.0001, kernel=rbf, score=0.8281110116383169, total=   2.8s\n",
      "[CV] C=1000, gamma=0.0001, kernel=rbf ................................\n",
      "[CV]  C=1000, gamma=0.0001, kernel=rbf, score=0.8245299910474485, total=   2.8s\n",
      "[CV] C=1000, gamma=0.001, kernel=rbf .................................\n",
      "[CV]  C=1000, gamma=0.001, kernel=rbf, score=0.8372093023255814, total=   3.1s\n",
      "[CV] C=1000, gamma=0.001, kernel=rbf .................................\n",
      "[CV]  C=1000, gamma=0.001, kernel=rbf, score=0.8375111906893464, total=   2.9s\n",
      "[CV] C=1000, gamma=0.001, kernel=rbf .................................\n",
      "[CV]  C=1000, gamma=0.001, kernel=rbf, score=0.8375111906893464, total=   2.9s\n",
      "[CV] C=1000, gamma=0.01, kernel=rbf ..................................\n",
      "[CV]  C=1000, gamma=0.01, kernel=rbf, score=0.8372093023255814, total=   2.9s\n",
      "[CV] C=1000, gamma=0.01, kernel=rbf ..................................\n",
      "[CV]  C=1000, gamma=0.01, kernel=rbf, score=0.8375111906893464, total=   2.9s\n",
      "[CV] C=1000, gamma=0.01, kernel=rbf ..................................\n",
      "[CV]  C=1000, gamma=0.01, kernel=rbf, score=0.8375111906893464, total=   2.9s\n",
      "[CV] C=1000, gamma=0.1, kernel=rbf ...................................\n",
      "[CV]  C=1000, gamma=0.1, kernel=rbf, score=0.8372093023255814, total=   2.9s\n",
      "[CV] C=1000, gamma=0.1, kernel=rbf ...................................\n",
      "[CV]  C=1000, gamma=0.1, kernel=rbf, score=0.8375111906893464, total=   2.9s\n",
      "[CV] C=1000, gamma=0.1, kernel=rbf ...................................\n",
      "[CV]  C=1000, gamma=0.1, kernel=rbf, score=0.8375111906893464, total=   2.9s\n",
      "[CV] C=1000, gamma=1, kernel=rbf .....................................\n",
      "[CV]  C=1000, gamma=1, kernel=rbf, score=0.8372093023255814, total=   2.9s\n",
      "[CV] C=1000, gamma=1, kernel=rbf .....................................\n",
      "[CV]  C=1000, gamma=1, kernel=rbf, score=0.8375111906893464, total=   2.9s\n",
      "[CV] C=1000, gamma=1, kernel=rbf .....................................\n",
      "[CV]  C=1000, gamma=1, kernel=rbf, score=0.8375111906893464, total=   2.9s\n",
      "[CV] C=1000, gamma=10, kernel=rbf ....................................\n",
      "[CV]  C=1000, gamma=10, kernel=rbf, score=0.8372093023255814, total=   2.8s\n",
      "[CV] C=1000, gamma=10, kernel=rbf ....................................\n",
      "[CV]  C=1000, gamma=10, kernel=rbf, score=0.8375111906893464, total=   2.9s\n",
      "[CV] C=1000, gamma=10, kernel=rbf ....................................\n",
      "[CV]  C=1000, gamma=10, kernel=rbf, score=0.8375111906893464, total=   2.9s\n",
      "[CV] C=1000, gamma=100, kernel=rbf ...................................\n",
      "[CV]  C=1000, gamma=100, kernel=rbf, score=0.8372093023255814, total=   2.9s\n",
      "[CV] C=1000, gamma=100, kernel=rbf ...................................\n",
      "[CV]  C=1000, gamma=100, kernel=rbf, score=0.8375111906893464, total=   2.9s\n",
      "[CV] C=1000, gamma=100, kernel=rbf ...................................\n",
      "[CV]  C=1000, gamma=100, kernel=rbf, score=0.8375111906893464, total=   3.2s\n",
      "[CV] C=1000, gamma=1000, kernel=rbf ..................................\n",
      "[CV]  C=1000, gamma=1000, kernel=rbf, score=0.8372093023255814, total=   3.5s\n",
      "[CV] C=1000, gamma=1000, kernel=rbf ..................................\n",
      "[CV]  C=1000, gamma=1000, kernel=rbf, score=0.8375111906893464, total=   3.4s\n",
      "[CV] C=1000, gamma=1000, kernel=rbf ..................................\n",
      "[CV]  C=1000, gamma=1000, kernel=rbf, score=0.8375111906893464, total=   3.7s\n",
      "[CV] C=1000, gamma=10000, kernel=rbf .................................\n",
      "[CV]  C=1000, gamma=10000, kernel=rbf, score=0.8372093023255814, total=   3.1s\n",
      "[CV] C=1000, gamma=10000, kernel=rbf .................................\n",
      "[CV]  C=1000, gamma=10000, kernel=rbf, score=0.8375111906893464, total=   3.3s\n",
      "[CV] C=1000, gamma=10000, kernel=rbf .................................\n",
      "[CV]  C=1000, gamma=10000, kernel=rbf, score=0.8375111906893464, total=   2.9s\n",
      "[CV] C=10000, gamma=0.0001, kernel=rbf ...............................\n",
      "[CV]  C=10000, gamma=0.0001, kernel=rbf, score=0.8278175313059034, total=   2.8s\n",
      "[CV] C=10000, gamma=0.0001, kernel=rbf ...............................\n",
      "[CV]  C=10000, gamma=0.0001, kernel=rbf, score=0.8281110116383169, total=   2.7s\n",
      "[CV] C=10000, gamma=0.0001, kernel=rbf ...............................\n",
      "[CV]  C=10000, gamma=0.0001, kernel=rbf, score=0.8245299910474485, total=   2.8s\n",
      "[CV] C=10000, gamma=0.001, kernel=rbf ................................\n",
      "[CV]  C=10000, gamma=0.001, kernel=rbf, score=0.8372093023255814, total=   3.0s\n",
      "[CV] C=10000, gamma=0.001, kernel=rbf ................................\n",
      "[CV]  C=10000, gamma=0.001, kernel=rbf, score=0.8375111906893464, total=   2.9s\n",
      "[CV] C=10000, gamma=0.001, kernel=rbf ................................\n",
      "[CV]  C=10000, gamma=0.001, kernel=rbf, score=0.8375111906893464, total=   2.9s\n",
      "[CV] C=10000, gamma=0.01, kernel=rbf .................................\n",
      "[CV]  C=10000, gamma=0.01, kernel=rbf, score=0.8372093023255814, total=   2.9s\n",
      "[CV] C=10000, gamma=0.01, kernel=rbf .................................\n",
      "[CV]  C=10000, gamma=0.01, kernel=rbf, score=0.8375111906893464, total=   2.9s\n",
      "[CV] C=10000, gamma=0.01, kernel=rbf .................................\n",
      "[CV]  C=10000, gamma=0.01, kernel=rbf, score=0.8375111906893464, total=   2.9s\n",
      "[CV] C=10000, gamma=0.1, kernel=rbf ..................................\n",
      "[CV]  C=10000, gamma=0.1, kernel=rbf, score=0.8372093023255814, total=   2.9s\n",
      "[CV] C=10000, gamma=0.1, kernel=rbf ..................................\n",
      "[CV]  C=10000, gamma=0.1, kernel=rbf, score=0.8375111906893464, total=   2.9s\n",
      "[CV] C=10000, gamma=0.1, kernel=rbf ..................................\n",
      "[CV]  C=10000, gamma=0.1, kernel=rbf, score=0.8375111906893464, total=   2.9s\n",
      "[CV] C=10000, gamma=1, kernel=rbf ....................................\n",
      "[CV]  C=10000, gamma=1, kernel=rbf, score=0.8372093023255814, total=   2.9s\n",
      "[CV] C=10000, gamma=1, kernel=rbf ....................................\n",
      "[CV]  C=10000, gamma=1, kernel=rbf, score=0.8375111906893464, total=   3.0s\n",
      "[CV] C=10000, gamma=1, kernel=rbf ....................................\n",
      "[CV]  C=10000, gamma=1, kernel=rbf, score=0.8375111906893464, total=   2.9s\n",
      "[CV] C=10000, gamma=10, kernel=rbf ...................................\n",
      "[CV]  C=10000, gamma=10, kernel=rbf, score=0.8372093023255814, total=   2.9s\n",
      "[CV] C=10000, gamma=10, kernel=rbf ...................................\n"
     ]
    },
    {
     "name": "stdout",
     "output_type": "stream",
     "text": [
      "[CV]  C=10000, gamma=10, kernel=rbf, score=0.8375111906893464, total=   2.9s\n",
      "[CV] C=10000, gamma=10, kernel=rbf ...................................\n",
      "[CV]  C=10000, gamma=10, kernel=rbf, score=0.8375111906893464, total=   3.0s\n",
      "[CV] C=10000, gamma=100, kernel=rbf ..................................\n",
      "[CV]  C=10000, gamma=100, kernel=rbf, score=0.8372093023255814, total=   3.6s\n",
      "[CV] C=10000, gamma=100, kernel=rbf ..................................\n",
      "[CV]  C=10000, gamma=100, kernel=rbf, score=0.8375111906893464, total=   3.0s\n",
      "[CV] C=10000, gamma=100, kernel=rbf ..................................\n",
      "[CV]  C=10000, gamma=100, kernel=rbf, score=0.8375111906893464, total=   3.0s\n",
      "[CV] C=10000, gamma=1000, kernel=rbf .................................\n",
      "[CV]  C=10000, gamma=1000, kernel=rbf, score=0.8372093023255814, total=   2.9s\n",
      "[CV] C=10000, gamma=1000, kernel=rbf .................................\n",
      "[CV]  C=10000, gamma=1000, kernel=rbf, score=0.8375111906893464, total=   3.2s\n",
      "[CV] C=10000, gamma=1000, kernel=rbf .................................\n",
      "[CV]  C=10000, gamma=1000, kernel=rbf, score=0.8375111906893464, total=   3.0s\n",
      "[CV] C=10000, gamma=10000, kernel=rbf ................................\n",
      "[CV]  C=10000, gamma=10000, kernel=rbf, score=0.8372093023255814, total=   3.1s\n",
      "[CV] C=10000, gamma=10000, kernel=rbf ................................\n",
      "[CV]  C=10000, gamma=10000, kernel=rbf, score=0.8375111906893464, total=   2.9s\n",
      "[CV] C=10000, gamma=10000, kernel=rbf ................................\n",
      "[CV]  C=10000, gamma=10000, kernel=rbf, score=0.8375111906893464, total=   2.9s\n"
     ]
    },
    {
     "name": "stderr",
     "output_type": "stream",
     "text": [
      "[Parallel(n_jobs=1)]: Done 243 out of 243 | elapsed: 16.1min finished\n"
     ]
    },
    {
     "data": {
      "text/plain": [
       "GridSearchCV(cv=None, error_score='raise',\n",
       "       estimator=SVC(C=1.0, cache_size=200, class_weight=None, coef0=0.0,\n",
       "  decision_function_shape='ovr', degree=3, gamma='auto', kernel='rbf',\n",
       "  max_iter=-1, probability=False, random_state=None, shrinking=True,\n",
       "  tol=0.001, verbose=False),\n",
       "       fit_params=None, iid=True, n_jobs=1,\n",
       "       param_grid={'C': [0.0001, 0.001, 0.01, 0.1, 1, 10, 100, 1000, 10000], 'gamma': [0.0001, 0.001, 0.01, 0.1, 1, 10, 100, 1000, 10000], 'kernel': ['rbf']},\n",
       "       pre_dispatch='2*n_jobs', refit=True, return_train_score=True,\n",
       "       scoring=None, verbose=10)"
      ]
     },
     "execution_count": 10,
     "metadata": {},
     "output_type": "execute_result"
    }
   ],
   "source": [
    "#Gridsearch\n",
    "param_grid = {'C': [0.0001, 0.001, 0.01, 0.1, 1, 10, 100, 1000, 10000], \n",
    "              'gamma': [0.0001, 0.001, 0.01, 0.1, 1, 10, 100, 1000, 10000], 'kernel': ['rbf']} \n",
    "grid = GridSearchCV(SVC(),param_grid,refit=True,verbose=10)\n",
    "grid.fit(x_train,y_train)"
   ]
  },
  {
   "cell_type": "code",
   "execution_count": 11,
   "metadata": {},
   "outputs": [
    {
     "name": "stdout",
     "output_type": "stream",
     "text": [
      "confusion_matrix\n",
      "[[2431    0]\n",
      " [ 443    0]]\n",
      "\n",
      " classification_report\n",
      "             precision    recall  f1-score   support\n",
      "\n",
      "          0       0.85      1.00      0.92      2431\n",
      "          1       0.00      0.00      0.00       443\n",
      "\n",
      "avg / total       0.72      0.85      0.78      2874\n",
      "\n"
     ]
    },
    {
     "name": "stderr",
     "output_type": "stream",
     "text": [
      "C:\\Users\\rohit\\Anaconda3\\lib\\site-packages\\sklearn\\metrics\\classification.py:1135: UndefinedMetricWarning: Precision and F-score are ill-defined and being set to 0.0 in labels with no predicted samples.\n",
      "  'precision', 'predicted', average, warn_for)\n"
     ]
    }
   ],
   "source": [
    "#Model Evaluation\n",
    "predictions = grid.predict(x_test)\n",
    "print('confusion_matrix')\n",
    "print(confusion_matrix(y_test,predictions))\n",
    "print('\\n classification_report')\n",
    "print(classification_report(y_test,predictions))"
   ]
  },
  {
   "cell_type": "markdown",
   "metadata": {},
   "source": [
    "### We got some bad results! \n",
    "### With the model classifying everything into one group! "
   ]
  },
  {
   "cell_type": "markdown",
   "metadata": {},
   "source": [
    "# Decision Tree"
   ]
  },
  {
   "cell_type": "code",
   "execution_count": 12,
   "metadata": {},
   "outputs": [
    {
     "name": "stdout",
     "output_type": "stream",
     "text": [
      "confusion_matrix\n",
      "[[2002  429]\n",
      " [ 341  102]]\n",
      "\n",
      "\n",
      "classification_report\n",
      "             precision    recall  f1-score   support\n",
      "\n",
      "          0       0.85      0.82      0.84      2431\n",
      "          1       0.19      0.23      0.21       443\n",
      "\n",
      "avg / total       0.75      0.73      0.74      2874\n",
      "\n"
     ]
    }
   ],
   "source": [
    "from sklearn.tree import DecisionTreeClassifier\n",
    "\n",
    "dtree = DecisionTreeClassifier()\n",
    "dtree.fit(x_train,y_train)\n",
    "\n",
    "predictions = dtree.predict(x_test)\n",
    "\n",
    "print('confusion_matrix')\n",
    "print(confusion_matrix(y_test,predictions))\n",
    "print('\\n')\n",
    "print('classification_report')\n",
    "print(classification_report(y_test,predictions))"
   ]
  },
  {
   "cell_type": "code",
   "execution_count": null,
   "metadata": {
    "collapsed": true
   },
   "outputs": [],
   "source": []
  }
 ],
 "metadata": {
  "kernelspec": {
   "display_name": "Python 3",
   "language": "python",
   "name": "python3"
  },
  "language_info": {
   "codemirror_mode": {
    "name": "ipython",
    "version": 3
   },
   "file_extension": ".py",
   "mimetype": "text/x-python",
   "name": "python",
   "nbconvert_exporter": "python",
   "pygments_lexer": "ipython3",
   "version": "3.6.2"
  }
 },
 "nbformat": 4,
 "nbformat_minor": 2
}
